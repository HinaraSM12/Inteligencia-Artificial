{
  "cells": [
    {
      "cell_type": "markdown",
      "metadata": {
        "id": "f2f6szuYGcL4"
      },
      "source": [
        "# Estadística exploratoria:\n",
        "Es una forma de analizar un conjunto de datos con respecto a conceptos básicos de la estadística como: La media, la dispersión de datos, correlaciones, entre otros:\n",
        "- Cada variable es una columna.\n",
        "- Por cada problema de tendrá una **variable objetivo**: Variable que deseamos predecir."
      ]
    },
    {
      "attachments": {},
      "cell_type": "markdown",
      "metadata": {
        "id": "QOboBM-EHtkO"
      },
      "source": [
        "Cada conjunto de datos cuenta con una forma de atacar a nivel exploratorio. Sin embargo, se tendrán en cuenta los siguientes parámetros a la hora del análisis:\n",
        "\n",
        "1. Identificar la **variable objetivo**, separarla en una variable.\n",
        "2. Depurar el conjunto de datos: Analizar el estado de salud de los datos, qué variables no sirven, qué filas no sirven, dónde hay variables NaN.\n",
        "3. Explorar la **variable objetivo**: Sacar media, medidas de dispersión, summary.\n",
        "4. Realizar encoded de variables categóricas. Comparar las variables vs **Variable objetivo** (Comparación a pares).OPCIONAL: Comparar de 3 o más variables.\n",
        "5. Realizar normalización de datos (Para variables continuas principalmente). Análisis de correlación."
      ]
    },
    {
      "cell_type": "markdown",
      "metadata": {
        "id": "QRFRKOoOPV1-"
      },
      "source": [
        "## Cargar datos"
      ]
    },
    {
      "cell_type": "code",
      "execution_count": null,
      "metadata": {
        "id": "VkUGOlNRQNar"
      },
      "outputs": [],
      "source": [
        "#Liberias\n",
        "import pandas as pd\n",
        "import csv\n",
        "import numpy as np\n",
        "import matplotlib.pyplot as plt\n",
        "from matplotlib import colors\n",
        "import seaborn as sb\n",
        " \n",
        "%matplotlib inline\n",
        "plt.rcParams['figure.figsize'] = (16, 9)\n",
        "plt.style.use('ggplot')\n",
        "\n",
        "# librerías Árboles de Decisión\n",
        "from sklearn import tree\n",
        "from sklearn.metrics import accuracy_score\n",
        "from sklearn.model_selection import KFold\n",
        "from sklearn.model_selection import cross_val_score\n",
        "from IPython.display import Image as PImage\n",
        "from subprocess import check_call\n",
        "from PIL import Image, ImageDraw, ImageFont\n",
        "\n",
        "# librerías Gaussian Naive Bayes\n",
        "from sklearn.model_selection import train_test_split\n",
        "from sklearn.metrics import confusion_matrix\n",
        "from sklearn.naive_bayes import GaussianNB\n",
        "from sklearn.feature_selection import SelectKBest\n",
        "from sklearn.metrics import classification_report\n",
        "from sklearn.metrics import accuracy_score\n",
        "from sklearn.metrics import precision_score\n",
        "from sklearn.metrics import recall_score\n",
        "from sklearn.metrics import f1_score\n",
        "from sklearn.metrics import confusion_matrix\n",
        "from sklearn.metrics import plot_confusion_matrix\n",
        "from sklearn.metrics import make_scorer\n"
      ]
    },
    {
      "cell_type": "code",
      "execution_count": null,
      "metadata": {
        "id": "W51xXmN6N3ko"
      },
      "outputs": [],
      "source": [
        "from google.colab import files\n",
        "uploaded = files.upload()\n",
        "#Base de datos del titanic\n",
        "df = pd.read_csv('Taller4_Ejemplo_titanic.csv')\n",
        "df.head()\n",
        "\n",
        "#Si se va a cargar desde un entorno distinto a colab:\n",
        "#df = pd.read_csv('Taller4_Ejemplo_titanic.csv')"
      ]
    },
    {
      "cell_type": "markdown",
      "metadata": {
        "id": "1jWYnQEhQ95p"
      },
      "source": [
        "Variables"
      ]
    },
    {
      "cell_type": "code",
      "execution_count": null,
      "metadata": {
        "id": "U6Z_vU2ARBa5"
      },
      "outputs": [],
      "source": [
        "df.columns"
      ]
    },
    {
      "cell_type": "markdown",
      "metadata": {
        "id": "dMvjb9g7QtZF"
      },
      "source": [
        "## **1. Variable Objetivo (Target): Survived**\n",
        "# 0 = No Sobrevive\n",
        "# 1 = Sobrevive"
      ]
    },
    {
      "cell_type": "code",
      "execution_count": null,
      "metadata": {
        "id": "sdpXq2G5Q1r7"
      },
      "outputs": [],
      "source": [
        "print(df.groupby('Survived').size())"
      ]
    },
    {
      "cell_type": "markdown",
      "metadata": {
        "id": "L86aQ5o5RIDu"
      },
      "source": [
        "Distribución Variable Objetivo (Target) Relación: 1 : 0.63. Es útil conocer la distribución para modelos que se descompensen a la hora de predecir más de dos clases."
      ]
    },
    {
      "cell_type": "markdown",
      "metadata": {
        "id": "jZZ82_93Rl56"
      },
      "source": [
        "Gráfico de barras"
      ]
    },
    {
      "cell_type": "code",
      "execution_count": null,
      "metadata": {
        "id": "mRfvEnEERnyu"
      },
      "outputs": [],
      "source": [
        "sb.factorplot('Survived',data=df,kind=\"count\")"
      ]
    },
    {
      "cell_type": "markdown",
      "metadata": {
        "id": "fli2oKUGTR3W"
      },
      "source": [
        "### Otras variables. Realizar y personalizar histogramas con matplotlib: https://www.codigopiton.com/como-hacer-un-histograma-en-python/#:~:text=Para%20realizar%20un%20histograma%20con,show%20para%20obtener%20el%20histograma.  Realizar histogramas con pandas: https://www.delftstack.com/es/api/python-pandas/pandas-dataframe-dataframe.plot.hist-function/"
      ]
    },
    {
      "cell_type": "code",
      "execution_count": null,
      "metadata": {
        "id": "T4h5vYu_TUfD"
      },
      "outputs": [],
      "source": [
        "import seaborn as sns\n",
        "import matplotlib.pyplot as plt\n",
        "from matplotlib import colors\n",
        "df.drop(['Survived'], axis=1).hist()\n",
        "plt.show()"
      ]
    },
    {
      "cell_type": "markdown",
      "metadata": {
        "id": "KNXE-XoUPzZ6"
      },
      "source": [
        "## 2. Estado de salud de una base de datos: https://www.delftstack.com/es/howto/python-pandas/how-to-check-if-nan-exisits-in-pandas-dataframe/\n"
      ]
    },
    {
      "cell_type": "code",
      "execution_count": null,
      "metadata": {
        "id": "PQE-QfFSP3g1"
      },
      "outputs": [],
      "source": [
        "#Datos de mediciones de un avion de papel\n",
        "from google.colab import files\n",
        "uploaded = files.upload()\n",
        "#Base de datos del titanic\n",
        "df = pd.read_csv('Taller4_RegistroAV20221S.csv')\n",
        "df"
      ]
    },
    {
      "cell_type": "code",
      "execution_count": null,
      "metadata": {
        "id": "ZMbb2JL3UrgR"
      },
      "outputs": [],
      "source": [
        "df.columns    #Siempre es util conocer como están definidas las variables de nuestros datos."
      ]
    },
    {
      "cell_type": "markdown",
      "metadata": {
        "id": "v0v3XdaFTBHd"
      },
      "source": [
        "Verificar si hay datos NaN/Null en pandas: https://www.delftstack.com/es/howto/python-pandas/how-to-check-if-nan-exisits-in-pandas-dataframe/"
      ]
    },
    {
      "cell_type": "code",
      "execution_count": null,
      "metadata": {
        "id": "BVCPhVTsTX55"
      },
      "outputs": [],
      "source": [
        "#Verificar si hay un dato NaN o null en el dataframe\n",
        "check_for_nan = df.isnull().values.any()\n",
        "print(check_for_nan)"
      ]
    },
    {
      "cell_type": "code",
      "execution_count": null,
      "metadata": {
        "id": "6tcw4hK7Tq7L"
      },
      "outputs": [],
      "source": [
        "#Determinar el numero de datos NaN\n",
        "total_nan_values = df.isnull().sum().sum()\n",
        "print (total_nan_values)"
      ]
    },
    {
      "cell_type": "code",
      "execution_count": null,
      "metadata": {
        "id": "XrVPVzTbTFfT"
      },
      "outputs": [],
      "source": [
        "#Revisar en qué registro y qué variables poseen datos NaN/Null\n",
        "df_check=df.isnull()\n",
        "print(df_check)"
      ]
    },
    {
      "cell_type": "code",
      "execution_count": null,
      "metadata": {
        "id": "AelKdEqXT6wf"
      },
      "outputs": [],
      "source": [
        "#Revisar en qué registro exactamente hay un dato NaN\n",
        "reg_NaN_V1=df[df_check['Distancia Recorrida (m)']]   #Se revisaria por cada variable\n",
        "reg_NaN_V1"
      ]
    },
    {
      "cell_type": "code",
      "execution_count": null,
      "metadata": {
        "id": "GwEplmEIVdFs"
      },
      "outputs": [],
      "source": [
        "reg_NaN_V2=df[df_check['Longitud ala a ala (cm)']]\n",
        "reg_NaN_V2\n",
        "#Si hay mas variables tocaría usar un for/map aplicando la más cara correspondiente."
      ]
    },
    {
      "cell_type": "markdown",
      "metadata": {
        "id": "z9Wy2Qn6Q5X_"
      },
      "source": [
        "Convertir los datos con ',' a '.' y volverlos datos tipo float."
      ]
    },
    {
      "cell_type": "code",
      "execution_count": null,
      "metadata": {
        "id": "kkKe82EsREaN"
      },
      "outputs": [],
      "source": [
        "#Convertir los datos en datos numericos\n",
        "data_AVC1C2C3=df[['Distancia Recorrida (m)','Longitud punta a cola (cm)','Longitud ala a ala (cm)']]    #Seleccionar un subconjunto de datos. No es aconsejable borrar datos,\n",
        "                                                                                                        #solo filtrarlos, para tener en cuenta los cambios que se le van haciendo\n",
        "                                                                                                        #al conjunto de datos.\n",
        "for i in range(0,len(data_AVC1C2C3)):\n",
        "    reg=np.array(data_AVC1C2C3.loc[i])\n",
        "    l_aux=[]\n",
        "    for ele in reg:\n",
        "        if(pd.isna(ele)):           #Tratamiento de datos NaN\n",
        "            l_aux+=[float(-1)]\n",
        "        else:\n",
        "            l_aux+=[float(ele.replace(',','.'))]      \n",
        "    data_AVC1C2C3.loc[i]=l_aux\n",
        "data_AVC1C2C3"
      ]
    },
    {
      "cell_type": "code",
      "execution_count": null,
      "metadata": {
        "id": "4cVaXrUnWFeD"
      },
      "outputs": [],
      "source": [
        "plt.hist(np.array(data_AVC1C2C3['Distancia Recorrida (m)']))    #Analizar una variable en específico\n",
        "plt.show()"
      ]
    },
    {
      "cell_type": "markdown",
      "metadata": {
        "id": "4oGQw22Bggwm"
      },
      "source": [
        "## 3. Analizar estadisticamente la variable objetivo"
      ]
    },
    {
      "cell_type": "code",
      "execution_count": null,
      "metadata": {
        "id": "kMyafYrRgkit"
      },
      "outputs": [],
      "source": [
        "from google.colab import files\n",
        "uploaded = files.upload()\n",
        "#Base de datos del titanic\n",
        "df = pd.read_csv('Taller4_Ejemplo_titanic.csv')\n",
        "df.head()"
      ]
    },
    {
      "cell_type": "code",
      "execution_count": null,
      "metadata": {
        "id": "c4qL5jNpgpb1"
      },
      "outputs": [],
      "source": [
        "#Revisar que la variable objetivo esté convertida en datos numericos-escalables\n",
        "df_varGoal=df[['Survived']]\n",
        "df_varGoal"
      ]
    },
    {
      "cell_type": "code",
      "execution_count": null,
      "metadata": {
        "id": "7uHG1qGMiaQI"
      },
      "outputs": [],
      "source": [
        "df_varGoal.describe()"
      ]
    },
    {
      "cell_type": "code",
      "execution_count": null,
      "metadata": {
        "id": "1Yv4tTcAhljn"
      },
      "outputs": [],
      "source": [
        "# Análisis de medidas de tendencia central: https://programmerclick.com/article/54391808486/\n",
        "import scipy.stats as st\n",
        "\n",
        "print(st.describe(np.array(df_varGoal)))"
      ]
    },
    {
      "cell_type": "code",
      "execution_count": null,
      "metadata": {
        "id": "RhLZgxQHjkOv"
      },
      "outputs": [],
      "source": [
        "#Como son clases hay que tener en cuenta la cantidad de datos por clase.\n",
        "sb.factorplot('Survived',data=df_varGoal,kind=\"count\")"
      ]
    },
    {
      "cell_type": "markdown",
      "metadata": {
        "id": "_nksZpBoXhD1"
      },
      "source": [
        "## 4. Comparar variables vs Variable objetivo."
      ]
    },
    {
      "cell_type": "markdown",
      "metadata": {
        "id": "yNDzs0QgY8Pp"
      },
      "source": [
        "En este tipo de análisis de datos, se tiene en cuenta que la variable objetivo son clases que se desean predecir. Ej: Se desea predecir un color de una pelota de un conjunto de 4 colores. Por ende, cada clase sería cada color y se puede determinar como. Color1=0 -> Color2=1 -> Color3=2 -> Color4=3. Cada valor para las clases es arbitrario del analista.\n",
        "\n",
        "**EJEMPLO: Si la presion arterial (BP) fuera una variable objetivo y se desea expresar numéricamente:**\n",
        "![image.png](data:image/png;base64,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)"
      ]
    },
    {
      "cell_type": "markdown",
      "metadata": {
        "id": "Y_TTsMwwbOey"
      },
      "source": [
        "**OTRA FORMA DE REALIZAR UN ENCODED:**\n",
        "\n",
        "![image.png](data:image/png;base64,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)"
      ]
    },
    {
      "cell_type": "markdown",
      "metadata": {
        "id": "WbANBOVRbfRl"
      },
      "source": [
        "Luego de tener las variables de una forma categorica-numérica y sin datos NaN se procede a realizar el análisis de la **variable objetivo** con respecto a las otras variables."
      ]
    },
    {
      "cell_type": "code",
      "execution_count": null,
      "metadata": {
        "id": "GKx9kjp-b67I"
      },
      "outputs": [],
      "source": [
        "from google.colab import files\n",
        "uploaded = files.upload()\n",
        "#Base de datos del titanic\n",
        "df = pd.read_csv('Taller4_Ejemplo_titanic.csv')\n",
        "df.head()"
      ]
    },
    {
      "cell_type": "code",
      "execution_count": null,
      "metadata": {
        "id": "P969lmDMcgm_"
      },
      "outputs": [],
      "source": [
        "df.columns"
      ]
    },
    {
      "cell_type": "code",
      "execution_count": null,
      "metadata": {
        "id": "j0kDQO8TcxCG"
      },
      "outputs": [],
      "source": [
        "# Eliminar una columna\n",
        "df = df.drop(['Name'],axis=1)\n",
        "df.head()"
      ]
    },
    {
      "cell_type": "code",
      "execution_count": null,
      "metadata": {
        "id": "MWouk-62dKkK"
      },
      "outputs": [],
      "source": [
        "#Convertir las variables sex en 0 y 1 \n",
        "df[\"sexEncoded\"] = df[\"Sex\"].map({'male':0,'female':1})\n",
        "\n",
        "#Otra forma\n",
        "#df.loc[df['Sex'] == 'male', 'Sex']= 0\n",
        "#df.loc[df['Sex'] == 'female', 'Sex']= 1\n",
        "df.head()   #Noten que la variable original no se borra sino al final, esto es para corroborar que si se están haciendo los cambios corrwctamente"
      ]
    },
    {
      "cell_type": "code",
      "execution_count": null,
      "metadata": {
        "id": "pAdRtth4d1tl"
      },
      "outputs": [],
      "source": [
        "#Como ya se revisó que si se hicieron bien los cambios, se quita la variable original\n",
        "df_change1 = df.drop(['Sex'],axis=1)\n",
        "df_change1"
      ]
    },
    {
      "cell_type": "code",
      "execution_count": null,
      "metadata": {
        "id": "qBztPnJkeQMx"
      },
      "outputs": [],
      "source": [
        "#Notemos que todas las variables son numericas, se procederá a analizar por pares\n",
        "#Visualizar relación si existe relación entre las variables que no son la variable objetivo\n",
        "sb.pairplot(df_change1.dropna(),\n",
        "            height=4, \n",
        "            vars=['Survived', 'Pclass', 'sexEncoded', 'Age', 'Siblings/Spouses Aboard',\n",
        "       'Parents/Children Aboard', 'Fare'],\n",
        "            kind='scatter')\n",
        "plt.show()"
      ]
    },
    {
      "cell_type": "markdown",
      "metadata": {
        "id": "RyzNZ10me7G5"
      },
      "source": [
        "Se puede analizar las variables que deseemos."
      ]
    },
    {
      "cell_type": "code",
      "execution_count": null,
      "metadata": {
        "id": "sfAh5Buwew7t"
      },
      "outputs": [],
      "source": [
        "#Droga vs Edad\n",
        "g = sb.catplot(x='sexEncoded', data=df_change1, hue='Survived', kind=\"count\")\n",
        "\n",
        "g.fig.suptitle(\"Survived vs Genero\")\n"
      ]
    },
    {
      "cell_type": "code",
      "execution_count": null,
      "metadata": {
        "id": "DeHBVR5LfZ_Y"
      },
      "outputs": [],
      "source": [
        "g = sb.catplot(x='sexEncoded', data=df_change1, hue='Age', kind=\"count\")\n",
        "\n",
        "g.fig.suptitle(\"Survived vs Edad\")"
      ]
    },
    {
      "cell_type": "markdown",
      "metadata": {
        "id": "j6LQiXl5kbP6"
      },
      "source": [
        "## 5. Normalización de datos"
      ]
    },
    {
      "cell_type": "code",
      "execution_count": null,
      "metadata": {
        "id": "A209ldAskuDN"
      },
      "outputs": [],
      "source": [
        "#Normalización de los datos\n",
        "def minmax_norm(df):\n",
        "    return (df - df.min()) / ( df.max() - df.min())\n",
        "\n",
        "df_norm=minmax_norm(df_change1)   #Datos previamente depurados\n",
        "df_norm         #Note que para las variables binarias no tiene efecto."
      ]
    },
    {
      "cell_type": "markdown",
      "metadata": {
        "id": "20n8VR8Dl2m-"
      },
      "source": [
        "Matriz de correlación de  Pearson"
      ]
    },
    {
      "cell_type": "code",
      "execution_count": null,
      "metadata": {
        "id": "LDc1hRrNl4U4"
      },
      "outputs": [],
      "source": [
        "#Haciendo la correlación de las variables con las variables significativas\n",
        "matrix_correl=df_norm.corr()\n",
        "sb.heatmap(matrix_correl,xticklabels=True,yticklabels=True,center=0,linewidths=1.2)\n",
        "\n",
        "plt.title(\"Matriz de correlacion de supervivientes del titanic\")\n",
        "plt.show() "
      ]
    },
    {
      "cell_type": "code",
      "execution_count": null,
      "metadata": {
        "id": "jTT_KDArmSZy"
      },
      "outputs": [],
      "source": [
        "colormap = plt.cm.viridis\n",
        "plt.figure(figsize=(10,10))\n",
        "plt.title('Pearson Correlation of Features')\n",
        "sb.heatmap(df_norm.astype(float).corr(),\n",
        "           vmax=1.0,\n",
        "           cmap=colormap,\n",
        "           annot=True,\n",
        "           linewidths=0.1,\n",
        "           linecolor='white',\n",
        "           square=True)"
      ]
    },
    {
      "cell_type": "markdown",
      "metadata": {
        "id": "feF3qBn3maP4"
      },
      "source": [
        "Matriz de corrlacion para Cramer V: Util para variables categóricas"
      ]
    },
    {
      "cell_type": "code",
      "execution_count": null,
      "metadata": {
        "id": "fswQ0CUBmeL6"
      },
      "outputs": [],
      "source": [
        "data_encoded = df_norm.copy()     #Se debe cambiar df_norm a su dataframe\n",
        "\n",
        "from scipy.stats import chi2_contingency\n",
        "\n",
        "def cramers_V(var1, var2):\n",
        "  crosstab = np.array(pd.crosstab(var1, var2, rownames=None, colnames=None))\n",
        "  stat = chi2_contingency(crosstab)[0]\n",
        "  obs = np.sum(crosstab)\n",
        "  mini = min(crosstab.shape) - 1\n",
        "  return (stat/(obs*mini))\n",
        "\n",
        "rows= []\n",
        "\n",
        "for var1 in data_encoded:\n",
        "  col = []\n",
        "  for var2 in data_encoded :\n",
        "    cramers =cramers_V(data_encoded[var1], data_encoded[var2])\n",
        "    col.append(round(cramers,2))\n",
        "  rows.append(col)\n",
        "  \n",
        "cramers_results = np.array(rows)\n",
        "df = pd.DataFrame(cramers_results, columns = data_encoded.columns, index =data_encoded.columns)\n",
        "\n",
        "with sb.axes_style(\"white\"):\n",
        "  ax = sb.heatmap(df,    #No cambiar\n",
        "                  vmin=0.,\n",
        "                  vmax=1,\n",
        "                  cmap=colormap,\n",
        "                  annot=True,\n",
        "                  linewidths=0.1,\n",
        "                  square=True)\n",
        "plt.show()"
      ]
    }
  ],
  "metadata": {
    "colab": {
      "name": "Taller4_EstadisticaExploratoriaEnPython.ipynb",
      "private_outputs": true,
      "provenance": []
    },
    "kernelspec": {
      "display_name": "Python 3",
      "name": "python3"
    },
    "language_info": {
      "name": "python"
    }
  },
  "nbformat": 4,
  "nbformat_minor": 0
}
