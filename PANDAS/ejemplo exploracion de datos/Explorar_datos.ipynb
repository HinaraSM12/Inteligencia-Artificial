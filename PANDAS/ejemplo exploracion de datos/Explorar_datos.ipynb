{
  "nbformat": 4,
  "nbformat_minor": 0,
  "metadata": {
    "colab": {
      "name": "Copy of Explorar_datos (2).ipynb",
      "provenance": []
    },
    "kernelspec": {
      "name": "python3",
      "display_name": "Python 3"
    }
  },
  "cells": [
    {
      "cell_type": "markdown",
      "metadata": {
        "id": "Ila44ycZhVmP"
      },
      "source": [
        "# Manipulación de datos con Pandas\n",
        "---\n",
        "\n",
        "La exploración y preprocesamiento de los data set es probablemente el paso más importante para construir modelos eficientes de Machine Learning. Los datos crudos contienen ruido, valores faltantes, representación inconsistente de características, y muchos otros problemas. Para lograr un modelo preciso que ayude a resolver el problema deseado y realice pronósticos de alta precisión, será necesario manipular estos datos sin procesar.\n",
        "\n",
        "En esta libreta veremos algunos comandos básicos para manipular datos crudos en Colab haciendo uso de la librería Pandas."
      ]
    },
    {
      "cell_type": "markdown",
      "metadata": {
        "id": "aNns8X3Og1n-"
      },
      "source": [
        "Esta información fue tomada de [DataCamp Data, Manipulation with pandas](https://learn.datacamp.com/courses/data-manipulation-with-pandas)."
      ]
    },
    {
      "cell_type": "markdown",
      "metadata": {
        "id": "H4BHYcQEimq5"
      },
      "source": [
        "## Importando librerías necesarias\n",
        "---"
      ]
    },
    {
      "cell_type": "code",
      "metadata": {
        "id": "f9bQcOj9UyEO"
      },
      "source": [
        "import numpy as np\n",
        "import pandas as pd\n",
        "import matplotlib.pyplot as plt\n",
        "\n",
        "# Quita el limite de la cantidad de columnas mostradas\n",
        "pd.set_option('display.max_columns', None)\n",
        "\n",
        "# Revierte la configuración anterior\n",
        "# pd.reset_option('display.max_columns')"
      ],
      "execution_count": 167,
      "outputs": []
    },
    {
      "cell_type": "markdown",
      "metadata": {
        "id": "DdKDh5w9kZh4"
      },
      "source": [
        "`homelessness` es un DataFrame que contiene estimaciones de la falta de vivienda en cada estado de EE. UU. en 2018. La columna `individual` es el número de personas sin hogar que no forman parte de una familia con niños. La columna `family_members` es el número de personas sin hogar que forman parte de una familia con niños. La columna `state_pop` es la población total del estado."
      ]
    },
    {
      "cell_type": "markdown",
      "metadata": {
        "id": "02HzO9xPtjdr"
      },
      "source": [
        "## Carga de archivo en Colab\n",
        "---\n",
        "\n",
        "En la sección `Files` de la izquierda (icono con imagen de un folder) deberán cargarse los archivos necesarios dando click derecho en la carpeta `sample_data`, opción `Upload` para que los datos puedan ser leídos correctamente.\n",
        "\n",
        ">***NOTA:*** con este método los archivos sólo se cargan temporalmente mientras tengamos activa la sesión. Una vez termine, si volvemos a abrir el notebook, los arcivos deben ser cargados nuevamente.\n",
        "\n",
        "Para obtener la ruta del archivo basta con dar click derecho sobre el y seleccionar la opción `Copy path`."
      ]
    },
    {
      "cell_type": "code",
      "metadata": {
        "id": "SjfFzSxcgXsh"
      },
      "source": [
        "homelessness = pd.read_csv('/content/sample_data/homelessness.csv')"
      ],
      "execution_count": 168,
      "outputs": []
    },
    {
      "cell_type": "markdown",
      "metadata": {
        "id": "SdZTIJhsiDZy"
      },
      "source": [
        "## Inspeccionando el DataFrame\n",
        "---\n",
        "\n",
        "`.head()` devuelve las primeras filas (la \"cabeza\" del DataFrame).\n",
        "\n",
        "`.info()` muestra información sobre cada una de las columnas, como el tipo de datos y el número de valores no nulos.\n",
        "\n",
        "`.shape` devuelve el número de filas y columnas del DataFrame.\n",
        "\n",
        "`.describe()` calcula algunas estadísticas de resumen para cada columna."
      ]
    },
    {
      "cell_type": "code",
      "metadata": {
        "id": "TEKC2Hdyjmx7",
        "colab": {
          "base_uri": "https://localhost:8080/"
        },
        "outputId": "cfe2ea3f-143b-4241-e848-7f3ba76b9869"
      },
      "source": [
        "# vista previa de las primeras filas del DataFrame\n",
        "print(homelessness.head())"
      ],
      "execution_count": 169,
      "outputs": [
        {
          "output_type": "stream",
          "name": "stdout",
          "text": [
            "               region       state  individuals  family_members  state_pop\n",
            "0  East South Central     Alabama         2570             864    4887681\n",
            "1             Pacific      Alaska         1434             582     735139\n",
            "2            Mountain     Arizona         7259            2606    7158024\n",
            "3  West South Central    Arkansas         2280             432    3009733\n",
            "4             Pacific  California       109008           20964   39461588\n"
          ]
        }
      ]
    },
    {
      "cell_type": "code",
      "metadata": {
        "id": "-Db3M7dvmj7J",
        "colab": {
          "base_uri": "https://localhost:8080/"
        },
        "outputId": "9a723b20-7e24-4874-ab29-5ebf0b4306b0"
      },
      "source": [
        "# nombres de las columnas, tipos de datos y valores no nulos\n",
        "print(homelessness.info())"
      ],
      "execution_count": 170,
      "outputs": [
        {
          "output_type": "stream",
          "name": "stdout",
          "text": [
            "<class 'pandas.core.frame.DataFrame'>\n",
            "RangeIndex: 51 entries, 0 to 50\n",
            "Data columns (total 5 columns):\n",
            " #   Column          Non-Null Count  Dtype \n",
            "---  ------          --------------  ----- \n",
            " 0   region          51 non-null     object\n",
            " 1   state           51 non-null     object\n",
            " 2   individuals     51 non-null     int64 \n",
            " 3   family_members  51 non-null     int64 \n",
            " 4   state_pop       51 non-null     int64 \n",
            "dtypes: int64(3), object(2)\n",
            "memory usage: 2.1+ KB\n",
            "None\n"
          ]
        }
      ]
    },
    {
      "cell_type": "code",
      "metadata": {
        "id": "gmy8rTEcnF7S",
        "colab": {
          "base_uri": "https://localhost:8080/"
        },
        "outputId": "61204b79-0012-4c12-9e30-c2199633cb1c"
      },
      "source": [
        "# tupla con el numero de filas y columnas del df.\n",
        "print(homelessness.shape)"
      ],
      "execution_count": 171,
      "outputs": [
        {
          "output_type": "stream",
          "name": "stdout",
          "text": [
            "(51, 5)\n"
          ]
        }
      ]
    },
    {
      "cell_type": "code",
      "metadata": {
        "id": "m6bYJfVMnQTO",
        "colab": {
          "base_uri": "https://localhost:8080/"
        },
        "outputId": "a65bcead-1fc0-4202-cb2c-16a89d1a4c05"
      },
      "source": [
        "# muestra algunos estadísticos de resumen\n",
        "print(homelessness.describe())"
      ],
      "execution_count": 172,
      "outputs": [
        {
          "output_type": "stream",
          "name": "stdout",
          "text": [
            "         individuals  family_members     state_pop\n",
            "count      51.000000       51.000000  5.100000e+01\n",
            "mean     7225.784314     3504.882353  6.405637e+06\n",
            "std     15991.025083     7805.411811  7.327258e+06\n",
            "min       434.000000       75.000000  5.776010e+05\n",
            "25%      1446.500000      592.000000  1.777414e+06\n",
            "50%      3082.000000     1482.000000  4.461153e+06\n",
            "75%      6781.500000     3196.000000  7.340946e+06\n",
            "max    109008.000000    52070.000000  3.946159e+07\n"
          ]
        }
      ]
    },
    {
      "cell_type": "markdown",
      "metadata": {
        "id": "H-cRxv9DiK2J"
      },
      "source": [
        "## Partes de un DataFrame\n",
        "---\n",
        "\n",
        "Los DataFrame constan de tres componentes diferentes accesibles mediante atributos (valores, columnas e índices).\n",
        "\n",
        "`.values` una matriz bidimensional de NumPy de valores.\n",
        "\n",
        "`.columns` los nombres de las columnas.\n",
        "\n",
        "`.index` los números o nombres de las filas."
      ]
    },
    {
      "cell_type": "code",
      "metadata": {
        "id": "vv7wLlMxitx4",
        "colab": {
          "base_uri": "https://localhost:8080/"
        },
        "outputId": "29a6d44f-ceed-49b1-d03f-6599d1a91fa1"
      },
      "source": [
        "# Contiene los valores de los datos en un arreglo de dos dimensiones de NumPy.\n",
        "print(homelessness.values)"
      ],
      "execution_count": 173,
      "outputs": [
        {
          "output_type": "stream",
          "name": "stdout",
          "text": [
            "[['East South Central' 'Alabama' 2570 864 4887681]\n",
            " ['Pacific' 'Alaska' 1434 582 735139]\n",
            " ['Mountain' 'Arizona' 7259 2606 7158024]\n",
            " ['West South Central' 'Arkansas' 2280 432 3009733]\n",
            " ['Pacific' 'California' 109008 20964 39461588]\n",
            " ['Mountain' 'Colorado' 7607 3250 5691287]\n",
            " ['New England' 'Connecticut' 2280 1696 3571520]\n",
            " ['South Atlantic' 'Delaware' 708 374 965479]\n",
            " ['South Atlantic' 'District of Columbia' 3770 3134 701547]\n",
            " ['South Atlantic' 'Florida' 21443 9587 21244317]\n",
            " ['South Atlantic' 'Georgia' 6943 2556 10511131]\n",
            " ['Pacific' 'Hawaii' 4131 2399 1420593]\n",
            " ['Mountain' 'Idaho' 1297 715 1750536]\n",
            " ['East North Central' 'Illinois' 6752 3891 12723071]\n",
            " ['East North Central' 'Indiana' 3776 1482 6695497]\n",
            " ['West North Central' 'Iowa' 1711 1038 3148618]\n",
            " ['West North Central' 'Kansas' 1443 773 2911359]\n",
            " ['East South Central' 'Kentucky' 2735 953 4461153]\n",
            " ['West South Central' 'Louisiana' 2540 519 4659690]\n",
            " ['New England' 'Maine' 1450 1066 1339057]\n",
            " ['South Atlantic' 'Maryland' 4914 2230 6035802]\n",
            " ['New England' 'Massachusetts' 6811 13257 6882635]\n",
            " ['East North Central' 'Michigan' 5209 3142 9984072]\n",
            " ['West North Central' 'Minnesota' 3993 3250 5606249]\n",
            " ['East South Central' 'Mississippi' 1024 328 2981020]\n",
            " ['West North Central' 'Missouri' 3776 2107 6121623]\n",
            " ['Mountain' 'Montana' 983 422 1060665]\n",
            " ['West North Central' 'Nebraska' 1745 676 1925614]\n",
            " ['Mountain' 'Nevada' 7058 486 3027341]\n",
            " ['New England' 'New Hampshire' 835 615 1353465]\n",
            " ['Mid-Atlantic' 'New Jersey' 6048 3350 8886025]\n",
            " ['Mountain' 'New Mexico' 1949 602 2092741]\n",
            " ['Mid-Atlantic' 'New York' 39827 52070 19530351]\n",
            " ['South Atlantic' 'North Carolina' 6451 2817 10381615]\n",
            " ['West North Central' 'North Dakota' 467 75 758080]\n",
            " ['East North Central' 'Ohio' 6929 3320 11676341]\n",
            " ['West South Central' 'Oklahoma' 2823 1048 3940235]\n",
            " ['Pacific' 'Oregon' 11139 3337 4181886]\n",
            " ['Mid-Atlantic' 'Pennsylvania' 8163 5349 12800922]\n",
            " ['New England' 'Rhode Island' 747 354 1058287]\n",
            " ['South Atlantic' 'South Carolina' 3082 851 5084156]\n",
            " ['West North Central' 'South Dakota' 836 323 878698]\n",
            " ['East South Central' 'Tennessee' 6139 1744 6771631]\n",
            " ['West South Central' 'Texas' 19199 6111 28628666]\n",
            " ['Mountain' 'Utah' 1904 972 3153550]\n",
            " ['New England' 'Vermont' 780 511 624358]\n",
            " ['South Atlantic' 'Virginia' 3928 2047 8501286]\n",
            " ['Pacific' 'Washington' 16424 5880 7523869]\n",
            " ['South Atlantic' 'West Virginia' 1021 222 1804291]\n",
            " ['East North Central' 'Wisconsin' 2740 2167 5807406]\n",
            " ['Mountain' 'Wyoming' 434 205 577601]]\n"
          ]
        }
      ]
    },
    {
      "cell_type": "code",
      "metadata": {
        "id": "cCuaKVQ6nwqC",
        "colab": {
          "base_uri": "https://localhost:8080/"
        },
        "outputId": "f6d2d71e-cf20-4bc0-b373-b083969dc746"
      },
      "source": [
        "# Muestra las etiquetas (nombres de variables) de las columnas.\n",
        "print(homelessness.columns)"
      ],
      "execution_count": 174,
      "outputs": [
        {
          "output_type": "stream",
          "name": "stdout",
          "text": [
            "Index(['region', 'state', 'individuals', 'family_members', 'state_pop'], dtype='object')\n"
          ]
        }
      ]
    },
    {
      "cell_type": "code",
      "metadata": {
        "id": "Og66stexnzIS",
        "colab": {
          "base_uri": "https://localhost:8080/"
        },
        "outputId": "6b164c04-88d1-452f-d530-88a15f43746b"
      },
      "source": [
        "# Este atributo contiene los números o nombres de las filas.\n",
        "print(homelessness.index)"
      ],
      "execution_count": 175,
      "outputs": [
        {
          "output_type": "stream",
          "name": "stdout",
          "text": [
            "RangeIndex(start=0, stop=51, step=1)\n"
          ]
        }
      ]
    },
    {
      "cell_type": "markdown",
      "metadata": {
        "id": "leIG53i3Bb4g"
      },
      "source": [
        "## Ordenamiento y filtrado\n",
        "---"
      ]
    },
    {
      "cell_type": "markdown",
      "metadata": {
        "id": "dvmg4OxZBrNu"
      },
      "source": [
        "### Ordenamiento por filas"
      ]
    },
    {
      "cell_type": "code",
      "metadata": {
        "id": "M45exPsABjkB",
        "colab": {
          "base_uri": "https://localhost:8080/"
        },
        "outputId": "02944f11-9377-4698-e894-8649cfe55082"
      },
      "source": [
        "# Por defecto ordena de menor a mayor\n",
        "homelessness_ind_ascending = homelessness.sort_values(\"individuals\")\n",
        "print(homelessness_ind_ascending.head())\n",
        "\n",
        "print(\"-----------------------------------------------------------------------\")\n",
        "\n",
        "homelessness_fam_descending = homelessness.sort_values(\"family_members\",\n",
        "                                                       ascending = False)\n",
        "print(homelessness_fam_descending.head())\n",
        "\n",
        "print(\"-----------------------------------------------------------------------\")\n",
        "\n",
        "# Si están empatados en algun valor se puede romper el empate ordenando\n",
        "# por mas de una variable.\n",
        "\n",
        "homelessness_reg_fam = homelessness.sort_values([\"region\", \"family_members\"],\n",
        "                                                ascending = [True, False])\n",
        "\n",
        "print(homelessness_reg_fam.head(15))                                         "
      ],
      "execution_count": 176,
      "outputs": [
        {
          "output_type": "stream",
          "name": "stdout",
          "text": [
            "                region         state  individuals  family_members  state_pop\n",
            "50            Mountain       Wyoming          434             205     577601\n",
            "34  West North Central  North Dakota          467              75     758080\n",
            "7       South Atlantic      Delaware          708             374     965479\n",
            "39         New England  Rhode Island          747             354    1058287\n",
            "45         New England       Vermont          780             511     624358\n",
            "-----------------------------------------------------------------------\n",
            "                region          state  individuals  family_members  state_pop\n",
            "32        Mid-Atlantic       New York        39827           52070   19530351\n",
            "4              Pacific     California       109008           20964   39461588\n",
            "21         New England  Massachusetts         6811           13257    6882635\n",
            "9       South Atlantic        Florida        21443            9587   21244317\n",
            "43  West South Central          Texas        19199            6111   28628666\n",
            "-----------------------------------------------------------------------\n",
            "                region         state  individuals  family_members  state_pop\n",
            "13  East North Central      Illinois         6752            3891   12723071\n",
            "35  East North Central          Ohio         6929            3320   11676341\n",
            "22  East North Central      Michigan         5209            3142    9984072\n",
            "49  East North Central     Wisconsin         2740            2167    5807406\n",
            "14  East North Central       Indiana         3776            1482    6695497\n",
            "42  East South Central     Tennessee         6139            1744    6771631\n",
            "17  East South Central      Kentucky         2735             953    4461153\n",
            "0   East South Central       Alabama         2570             864    4887681\n",
            "24  East South Central   Mississippi         1024             328    2981020\n",
            "32        Mid-Atlantic      New York        39827           52070   19530351\n",
            "38        Mid-Atlantic  Pennsylvania         8163            5349   12800922\n",
            "30        Mid-Atlantic    New Jersey         6048            3350    8886025\n",
            "5             Mountain      Colorado         7607            3250    5691287\n",
            "2             Mountain       Arizona         7259            2606    7158024\n",
            "44            Mountain          Utah         1904             972    3153550\n"
          ]
        }
      ]
    },
    {
      "cell_type": "markdown",
      "metadata": {
        "id": "jLa1zruuGuLv"
      },
      "source": [
        "### Subconjunto de columnas (filtrar por columnas)"
      ]
    },
    {
      "cell_type": "code",
      "metadata": {
        "id": "JWq2ndEHGxNQ",
        "colab": {
          "base_uri": "https://localhost:8080/"
        },
        "outputId": "0b79c917-dea3-4a67-f559-9ca0b6f175d4"
      },
      "source": [
        "# toma solo la columna indicada\n",
        "individuals = homelessness[\"individuals\"]\n",
        "print(individuals.head())"
      ],
      "execution_count": 177,
      "outputs": [
        {
          "output_type": "stream",
          "name": "stdout",
          "text": [
            "0      2570\n",
            "1      1434\n",
            "2      7259\n",
            "3      2280\n",
            "4    109008\n",
            "Name: individuals, dtype: int64\n"
          ]
        }
      ]
    },
    {
      "cell_type": "code",
      "metadata": {
        "id": "EPe7gJK05B72",
        "colab": {
          "base_uri": "https://localhost:8080/"
        },
        "outputId": "6b93c004-18de-40d2-b194-a5c1e35fd29c"
      },
      "source": [
        "# con dos variables o mas es necesario usar corchetes dobles\n",
        "# el externo define el subconjunto, y el interno la lista\n",
        "# de columnas que se incluyen en el subconjunto\n",
        "\n",
        "# dataframe con las dos variables seleccionadas\n",
        "state_fam = homelessness[[\"state\", \"family_members\"]]\n",
        "print(state_fam.head())"
      ],
      "execution_count": 178,
      "outputs": [
        {
          "output_type": "stream",
          "name": "stdout",
          "text": [
            "        state  family_members\n",
            "0     Alabama             864\n",
            "1      Alaska             582\n",
            "2     Arizona            2606\n",
            "3    Arkansas             432\n",
            "4  California           20964\n"
          ]
        }
      ]
    },
    {
      "cell_type": "code",
      "metadata": {
        "id": "UP2obZsL6XW8",
        "colab": {
          "base_uri": "https://localhost:8080/"
        },
        "outputId": "fe287f00-0bdd-49b9-d39b-d7e78f6e78a9"
      },
      "source": [
        "# se puede variar el orden de las columnas\n",
        "ind_state = homelessness[[\"individuals\", \"state\"]]\n",
        "print(ind_state.head())"
      ],
      "execution_count": 179,
      "outputs": [
        {
          "output_type": "stream",
          "name": "stdout",
          "text": [
            "   individuals       state\n",
            "0         2570     Alabama\n",
            "1         1434      Alaska\n",
            "2         7259     Arizona\n",
            "3         2280    Arkansas\n",
            "4       109008  California\n"
          ]
        }
      ]
    },
    {
      "cell_type": "code",
      "metadata": {
        "id": "vg9qz2389lR5",
        "colab": {
          "base_uri": "https://localhost:8080/"
        },
        "outputId": "9c3627a9-6570-4c6a-d9e9-9cc9595a5d4d"
      },
      "source": [
        "# Otra forma. Primero defino la lista con las\n",
        "# variables de interes. Luego saco el subconjunto\n",
        "columnas = [\"individuals\", \"state\"]\n",
        "ind_state_2 = homelessness[columnas]\n",
        "print(ind_state_2.head())"
      ],
      "execution_count": 180,
      "outputs": [
        {
          "output_type": "stream",
          "name": "stdout",
          "text": [
            "   individuals       state\n",
            "0         2570     Alabama\n",
            "1         1434      Alaska\n",
            "2         7259     Arizona\n",
            "3         2280    Arkansas\n",
            "4       109008  California\n"
          ]
        }
      ]
    },
    {
      "cell_type": "markdown",
      "metadata": {
        "id": "8viGpLLZ-fDf"
      },
      "source": [
        "### Subconjunto de filas (filtrar por filas)"
      ]
    },
    {
      "cell_type": "markdown",
      "metadata": {
        "id": "MRhZXP4M_-ri"
      },
      "source": [
        "Una de las formas más comunes de seleccionar filas es usando operadores relacionales para devolver falso o verdadero para cada fila, y luego pasando esto entre corchetes para traer esas filas."
      ]
    },
    {
      "cell_type": "code",
      "metadata": {
        "id": "Rq0ah3Ve6S8R",
        "colab": {
          "base_uri": "https://localhost:8080/"
        },
        "outputId": "9eb09f59-8083-45e5-9f99-2b189e666eb4"
      },
      "source": [
        "# filas que cumplen la condición \"individuals\" mayor a 10.000\n",
        "condition = homelessness[\"individuals\"] > 10000\n",
        "print(condition.head())"
      ],
      "execution_count": 181,
      "outputs": [
        {
          "output_type": "stream",
          "name": "stdout",
          "text": [
            "0    False\n",
            "1    False\n",
            "2    False\n",
            "3    False\n",
            "4     True\n",
            "Name: individuals, dtype: bool\n"
          ]
        }
      ]
    },
    {
      "cell_type": "code",
      "metadata": {
        "id": "DEprdhcp9NMH",
        "colab": {
          "base_uri": "https://localhost:8080/"
        },
        "outputId": "3d4e94ac-e2ef-4cf3-fcac-4a4dfd14bc04"
      },
      "source": [
        "# los datos de esas filas \n",
        "ind_gt_10k = homelessness[condition]\n",
        "print(ind_gt_10k)"
      ],
      "execution_count": 182,
      "outputs": [
        {
          "output_type": "stream",
          "name": "stdout",
          "text": [
            "                region       state  individuals  family_members  state_pop\n",
            "4              Pacific  California       109008           20964   39461588\n",
            "9       South Atlantic     Florida        21443            9587   21244317\n",
            "32        Mid-Atlantic    New York        39827           52070   19530351\n",
            "37             Pacific      Oregon        11139            3337    4181886\n",
            "43  West South Central       Texas        19199            6111   28628666\n",
            "47             Pacific  Washington        16424            5880    7523869\n"
          ]
        }
      ]
    },
    {
      "cell_type": "code",
      "metadata": {
        "id": "Kiyi3bHZE4Px",
        "colab": {
          "base_uri": "https://localhost:8080/"
        },
        "outputId": "b458cf5d-0b8b-4b17-93bc-219758cbe78b"
      },
      "source": [
        "# filtrar por filas donde la región sea montaña\n",
        "mountain_reg = homelessness[homelessness[\"region\"] == \"Mountain\"]\n",
        "print(mountain_reg)"
      ],
      "execution_count": 183,
      "outputs": [
        {
          "output_type": "stream",
          "name": "stdout",
          "text": [
            "      region       state  individuals  family_members  state_pop\n",
            "2   Mountain     Arizona         7259            2606    7158024\n",
            "5   Mountain    Colorado         7607            3250    5691287\n",
            "12  Mountain       Idaho         1297             715    1750536\n",
            "26  Mountain     Montana          983             422    1060665\n",
            "28  Mountain      Nevada         7058             486    3027341\n",
            "31  Mountain  New Mexico         1949             602    2092741\n",
            "44  Mountain        Utah         1904             972    3153550\n",
            "50  Mountain     Wyoming          434             205     577601\n"
          ]
        }
      ]
    },
    {
      "cell_type": "code",
      "metadata": {
        "id": "mkHBQZ0oFk4d",
        "colab": {
          "base_uri": "https://localhost:8080/"
        },
        "outputId": "84a3fe9a-28b4-4922-bf33-b37d96bc49eb"
      },
      "source": [
        "# filtrando por múltiples condiciones\n",
        "fam_lt_1k_pac = homelessness[(homelessness[\"family_members\"] < 1000) &\n",
        "                             (homelessness[\"region\"] == \"Pacific\")]\n",
        "print(fam_lt_1k_pac)"
      ],
      "execution_count": 184,
      "outputs": [
        {
          "output_type": "stream",
          "name": "stdout",
          "text": [
            "    region   state  individuals  family_members  state_pop\n",
            "1  Pacific  Alaska         1434             582     735139\n"
          ]
        }
      ]
    },
    {
      "cell_type": "markdown",
      "metadata": {
        "id": "SfjqBL0z91An"
      },
      "source": [
        "Subconjunto de filas por variables categóricas"
      ]
    },
    {
      "cell_type": "code",
      "metadata": {
        "id": "-ZEK1c6XGofg",
        "colab": {
          "base_uri": "https://localhost:8080/"
        },
        "outputId": "2aac5c37-b4f3-4462-cd30-3528f9116e39"
      },
      "source": [
        "# seleccionar filas según múltiples categorías (variables categóricas).\n",
        "# (usando `isin` evitamos tener que usar múltiples condiciones con or)\n",
        "regions = [\"South Atlantic\", \"Mid-Atlantic\", \"New England\"]\n",
        "condition = homelessness[\"region\"].isin(regions)\n",
        "print(homelessness[condition])\n",
        "\n",
        "print(\"-----------------------------------------------------------------------\")\n",
        "\n",
        "# en una línea\n",
        "south_mid_new = homelessness[homelessness[\"region\"].isin([\"South Atlantic\", \"Mid-Atlantic\", \"New England\"])]\n",
        "print(south_mid_new)"
      ],
      "execution_count": 185,
      "outputs": [
        {
          "output_type": "stream",
          "name": "stdout",
          "text": [
            "            region                 state  individuals  family_members  \\\n",
            "6      New England           Connecticut         2280            1696   \n",
            "7   South Atlantic              Delaware          708             374   \n",
            "8   South Atlantic  District of Columbia         3770            3134   \n",
            "9   South Atlantic               Florida        21443            9587   \n",
            "10  South Atlantic               Georgia         6943            2556   \n",
            "19     New England                 Maine         1450            1066   \n",
            "20  South Atlantic              Maryland         4914            2230   \n",
            "21     New England         Massachusetts         6811           13257   \n",
            "29     New England         New Hampshire          835             615   \n",
            "30    Mid-Atlantic            New Jersey         6048            3350   \n",
            "32    Mid-Atlantic              New York        39827           52070   \n",
            "33  South Atlantic        North Carolina         6451            2817   \n",
            "38    Mid-Atlantic          Pennsylvania         8163            5349   \n",
            "39     New England          Rhode Island          747             354   \n",
            "40  South Atlantic        South Carolina         3082             851   \n",
            "45     New England               Vermont          780             511   \n",
            "46  South Atlantic              Virginia         3928            2047   \n",
            "48  South Atlantic         West Virginia         1021             222   \n",
            "\n",
            "    state_pop  \n",
            "6     3571520  \n",
            "7      965479  \n",
            "8      701547  \n",
            "9    21244317  \n",
            "10   10511131  \n",
            "19    1339057  \n",
            "20    6035802  \n",
            "21    6882635  \n",
            "29    1353465  \n",
            "30    8886025  \n",
            "32   19530351  \n",
            "33   10381615  \n",
            "38   12800922  \n",
            "39    1058287  \n",
            "40    5084156  \n",
            "45     624358  \n",
            "46    8501286  \n",
            "48    1804291  \n",
            "-----------------------------------------------------------------------\n",
            "            region                 state  individuals  family_members  \\\n",
            "6      New England           Connecticut         2280            1696   \n",
            "7   South Atlantic              Delaware          708             374   \n",
            "8   South Atlantic  District of Columbia         3770            3134   \n",
            "9   South Atlantic               Florida        21443            9587   \n",
            "10  South Atlantic               Georgia         6943            2556   \n",
            "19     New England                 Maine         1450            1066   \n",
            "20  South Atlantic              Maryland         4914            2230   \n",
            "21     New England         Massachusetts         6811           13257   \n",
            "29     New England         New Hampshire          835             615   \n",
            "30    Mid-Atlantic            New Jersey         6048            3350   \n",
            "32    Mid-Atlantic              New York        39827           52070   \n",
            "33  South Atlantic        North Carolina         6451            2817   \n",
            "38    Mid-Atlantic          Pennsylvania         8163            5349   \n",
            "39     New England          Rhode Island          747             354   \n",
            "40  South Atlantic        South Carolina         3082             851   \n",
            "45     New England               Vermont          780             511   \n",
            "46  South Atlantic              Virginia         3928            2047   \n",
            "48  South Atlantic         West Virginia         1021             222   \n",
            "\n",
            "    state_pop  \n",
            "6     3571520  \n",
            "7      965479  \n",
            "8      701547  \n",
            "9    21244317  \n",
            "10   10511131  \n",
            "19    1339057  \n",
            "20    6035802  \n",
            "21    6882635  \n",
            "29    1353465  \n",
            "30    8886025  \n",
            "32   19530351  \n",
            "33   10381615  \n",
            "38   12800922  \n",
            "39    1058287  \n",
            "40    5084156  \n",
            "45     624358  \n",
            "46    8501286  \n",
            "48    1804291  \n"
          ]
        }
      ]
    },
    {
      "cell_type": "code",
      "metadata": {
        "id": "ggplhKfQI5NM",
        "colab": {
          "base_uri": "https://localhost:8080/"
        },
        "outputId": "b069b992-9ec0-448d-fce2-827217f6274e"
      },
      "source": [
        "# Los estados del desierto de Mojave\n",
        "canu = [\"California\", \"Arizona\", \"Nevada\", \"Utah\"]\n",
        "mojave_homelessness = homelessness[homelessness[\"state\"].isin(canu)]\n",
        "print(mojave_homelessness)"
      ],
      "execution_count": 186,
      "outputs": [
        {
          "output_type": "stream",
          "name": "stdout",
          "text": [
            "      region       state  individuals  family_members  state_pop\n",
            "2   Mountain     Arizona         7259            2606    7158024\n",
            "4    Pacific  California       109008           20964   39461588\n",
            "28  Mountain      Nevada         7058             486    3027341\n",
            "44  Mountain        Utah         1904             972    3153550\n"
          ]
        }
      ]
    },
    {
      "cell_type": "markdown",
      "metadata": {
        "id": "3df7-d9RL7tR"
      },
      "source": [
        "## Añadiendo columnas nuevas\n",
        "---\n",
        "\n",
        "Crear y agregar nuevas columnas a un DataFrame se conoce por varios nombres, entre ellos, mutar el DataFrame o transformar el DataFrame."
      ]
    },
    {
      "cell_type": "code",
      "metadata": {
        "id": "12HC2peRL_H4",
        "colab": {
          "base_uri": "https://localhost:8080/"
        },
        "outputId": "31fb94a3-cb91-46ce-c4fa-1874739c279f"
      },
      "source": [
        "# dos columnas nuevas; una con el total de personas sin hogar, es decir, los\n",
        "# que son parte de una familia sin hijos y los que son parte de familias con hijos\n",
        "homelessness[\"total\"] = homelessness[\"individuals\"] + homelessness[\"family_members\"]\n",
        "\n",
        "# la otra columna muestra la proporción de los de familias sin hijos\n",
        "#respecto al total\n",
        "homelessness[\"p_individuals\"] = homelessness[\"individuals\"] / homelessness[\"total\"]\n",
        "print(homelessness.head())"
      ],
      "execution_count": 187,
      "outputs": [
        {
          "output_type": "stream",
          "name": "stdout",
          "text": [
            "               region       state  individuals  family_members  state_pop  \\\n",
            "0  East South Central     Alabama         2570             864    4887681   \n",
            "1             Pacific      Alaska         1434             582     735139   \n",
            "2            Mountain     Arizona         7259            2606    7158024   \n",
            "3  West South Central    Arkansas         2280             432    3009733   \n",
            "4             Pacific  California       109008           20964   39461588   \n",
            "\n",
            "    total  p_individuals  \n",
            "0    3434       0.748398  \n",
            "1    2016       0.711310  \n",
            "2    9865       0.735834  \n",
            "3    2712       0.840708  \n",
            "4  129972       0.838704  \n"
          ]
        }
      ]
    },
    {
      "cell_type": "markdown",
      "metadata": {
        "id": "nuBXRcBbZHmr"
      },
      "source": [
        "Para responder a la pregunta, ¿Cuál estado tiene el número más alto de individuos sin hogar por cada 10.000 personas en el estado?, podemos hacer lo siguiente:\n",
        "1.\tAgregamos una nueva columna con la cantidad de individuos desamparados por cada 10.000 personas en cada estado.\n",
        "2.\tSeleccionamos las filas donde el dato anterior sea mayor a 20 (alto desamparo)\n",
        "3.\tOrdenamos esta selección en orden descendente según los individuos por cada diez mil personas.\n",
        "4.\tFinalmente seleccionamos solo las variables de interés y las mostramos.\n"
      ]
    },
    {
      "cell_type": "code",
      "metadata": {
        "id": "V7RcQpm5ZZDG",
        "colab": {
          "base_uri": "https://localhost:8080/"
        },
        "outputId": "2d1a92df-5cbc-46e9-fce7-7447852a728f"
      },
      "source": [
        "homelessness[\"indiv_per_10k\"] = 10000 * (homelessness[\"individuals\"] / homelessness[\"state_pop\"])\n",
        "high_homelessness = homelessness[homelessness[\"indiv_per_10k\"] > 20]\n",
        "high_homelessness_srt = high_homelessness.sort_values(\"indiv_per_10k\", ascending=False)\n",
        "result = high_homelessness_srt[[\"state\", \"indiv_per_10k\"]]\n",
        "print(result)"
      ],
      "execution_count": 188,
      "outputs": [
        {
          "output_type": "stream",
          "name": "stdout",
          "text": [
            "                   state  indiv_per_10k\n",
            "8   District of Columbia      53.738381\n",
            "11                Hawaii      29.079406\n",
            "4             California      27.623825\n",
            "37                Oregon      26.636307\n",
            "28                Nevada      23.314189\n",
            "47            Washington      21.829195\n",
            "32              New York      20.392363\n"
          ]
        }
      ]
    },
    {
      "cell_type": "markdown",
      "metadata": {
        "id": "JB1fZ0BkdOME"
      },
      "source": [
        "## Estadísticos de resumen\n",
        "---"
      ]
    },
    {
      "cell_type": "markdown",
      "metadata": {
        "id": "apEIe4Fi2hXK"
      },
      "source": [
        "### Exploración\n",
        "\n",
        "`sales` es un DataFrame que contiene las ventas semanales en dólares americanos, de varias tiendas de la cadena Walmart. Cada tienda tiene un numero de ID `store` y un tipo específico de tienda `type`. Las ventas también están separadas por ID de departamento `department`.\n",
        "Además de las ventas semanales, también hay información sobre si fue una semana de vacaciones o festiva, la temperatura promedio durante la semana en ese lugar, el promedio del precio del combustible en dólares por litro en esa semana, y la tasa nacional de desempleo en esa semana.\n"
      ]
    },
    {
      "cell_type": "code",
      "metadata": {
        "id": "6dr7cUKBdVt8"
      },
      "source": [
        "sales = pd.read_csv('/content/sample_data/sales_subset.csv')"
      ],
      "execution_count": 189,
      "outputs": []
    },
    {
      "cell_type": "code",
      "metadata": {
        "id": "jijDG7NVd3tI",
        "colab": {
          "base_uri": "https://localhost:8080/"
        },
        "outputId": "8cb56597-8908-4120-8cdb-fc6b675c9e07"
      },
      "source": [
        "print(sales.head())"
      ],
      "execution_count": 190,
      "outputs": [
        {
          "output_type": "stream",
          "name": "stdout",
          "text": [
            "   store type  department      date  weekly_sales  is_holiday  temperature_c  \\\n",
            "0      1    A           1  10/02/05      24924.50       False       5.727778   \n",
            "1      1    A           1  10/03/05      21827.90       False       8.055556   \n",
            "2      1    A           1  10/04/02      57258.43       False      16.816667   \n",
            "3      1    A           1  10/05/07      17413.94       False      22.527778   \n",
            "4      1    A           1  10/06/04      17558.09       False      27.050000   \n",
            "\n",
            "   fuel_price_usd_per_l  unemployment  \n",
            "0              0.679451         8.106  \n",
            "1              0.693452         8.106  \n",
            "2              0.718284         7.808  \n",
            "3              0.748928         7.808  \n",
            "4              0.714586         7.808  \n"
          ]
        }
      ]
    },
    {
      "cell_type": "code",
      "metadata": {
        "id": "wHv7-WYagEmZ",
        "colab": {
          "base_uri": "https://localhost:8080/"
        },
        "outputId": "1c14b71e-939a-441f-994a-6e8e5905c772"
      },
      "source": [
        "print(sales.info())"
      ],
      "execution_count": 191,
      "outputs": [
        {
          "output_type": "stream",
          "name": "stdout",
          "text": [
            "<class 'pandas.core.frame.DataFrame'>\n",
            "RangeIndex: 10774 entries, 0 to 10773\n",
            "Data columns (total 9 columns):\n",
            " #   Column                Non-Null Count  Dtype  \n",
            "---  ------                --------------  -----  \n",
            " 0   store                 10774 non-null  int64  \n",
            " 1   type                  10774 non-null  object \n",
            " 2   department            10774 non-null  int64  \n",
            " 3   date                  10774 non-null  object \n",
            " 4   weekly_sales          10774 non-null  float64\n",
            " 5   is_holiday            10774 non-null  bool   \n",
            " 6   temperature_c         10774 non-null  float64\n",
            " 7   fuel_price_usd_per_l  10774 non-null  float64\n",
            " 8   unemployment          10774 non-null  float64\n",
            "dtypes: bool(1), float64(4), int64(2), object(2)\n",
            "memory usage: 684.0+ KB\n",
            "None\n"
          ]
        }
      ]
    },
    {
      "cell_type": "markdown",
      "metadata": {
        "id": "wsiBrUhwoqOe"
      },
      "source": [
        "Está tomando la fecha como texto. Cambiamos el formato."
      ]
    },
    {
      "cell_type": "markdown",
      "metadata": {
        "id": "wDL7XfrloSXu"
      },
      "source": [
        "![format.PNG](data:image/png;base64,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)"
      ]
    },
    {
      "cell_type": "code",
      "metadata": {
        "id": "8_JHCc4zhgCP"
      },
      "source": [
        "# cambio del formato de fecha\n",
        "sales['date'] = pd.to_datetime(sales['date'], format=\"%y/%m/%d\")"
      ],
      "execution_count": 192,
      "outputs": []
    },
    {
      "cell_type": "code",
      "metadata": {
        "id": "uQOOI5bZozk0",
        "colab": {
          "base_uri": "https://localhost:8080/"
        },
        "outputId": "9a744215-1592-4c26-88eb-2dc0bf906dcd"
      },
      "source": [
        "print(sales.info())"
      ],
      "execution_count": 193,
      "outputs": [
        {
          "output_type": "stream",
          "name": "stdout",
          "text": [
            "<class 'pandas.core.frame.DataFrame'>\n",
            "RangeIndex: 10774 entries, 0 to 10773\n",
            "Data columns (total 9 columns):\n",
            " #   Column                Non-Null Count  Dtype         \n",
            "---  ------                --------------  -----         \n",
            " 0   store                 10774 non-null  int64         \n",
            " 1   type                  10774 non-null  object        \n",
            " 2   department            10774 non-null  int64         \n",
            " 3   date                  10774 non-null  datetime64[ns]\n",
            " 4   weekly_sales          10774 non-null  float64       \n",
            " 5   is_holiday            10774 non-null  bool          \n",
            " 6   temperature_c         10774 non-null  float64       \n",
            " 7   fuel_price_usd_per_l  10774 non-null  float64       \n",
            " 8   unemployment          10774 non-null  float64       \n",
            "dtypes: bool(1), datetime64[ns](1), float64(4), int64(2), object(1)\n",
            "memory usage: 684.0+ KB\n",
            "None\n"
          ]
        }
      ]
    },
    {
      "cell_type": "markdown",
      "metadata": {
        "id": "V1Nqu_Exfe6I"
      },
      "source": [
        "### Media y mediana"
      ]
    },
    {
      "cell_type": "code",
      "metadata": {
        "id": "aKDOPjq0fg0V",
        "colab": {
          "base_uri": "https://localhost:8080/"
        },
        "outputId": "d62a056a-ec9a-4818-8ca1-3c5016c6a128"
      },
      "source": [
        "# media de las ventas semanales (promedio)\n",
        "print(sales['weekly_sales'].mean())"
      ],
      "execution_count": 194,
      "outputs": [
        {
          "output_type": "stream",
          "name": "stdout",
          "text": [
            "23843.950148505668\n"
          ]
        }
      ]
    },
    {
      "cell_type": "code",
      "metadata": {
        "id": "XhlMoPBIr4dN",
        "colab": {
          "base_uri": "https://localhost:8080/"
        },
        "outputId": "b687eca3-1358-4bd1-a940-f6ff978b9553"
      },
      "source": [
        "# mediana\n",
        "print(sales['weekly_sales'].median())"
      ],
      "execution_count": 195,
      "outputs": [
        {
          "output_type": "stream",
          "name": "stdout",
          "text": [
            "12049.064999999999\n"
          ]
        }
      ]
    },
    {
      "cell_type": "markdown",
      "metadata": {
        "id": "Auch05gKuk_r"
      },
      "source": [
        "También se pueden aplicar a fechas (para los estadísticos que tengan sentido). "
      ]
    },
    {
      "cell_type": "code",
      "metadata": {
        "id": "eOM1EHInuwjj",
        "colab": {
          "base_uri": "https://localhost:8080/"
        },
        "outputId": "6cf35f2f-66dc-4001-dfca-3af90d14a67b"
      },
      "source": [
        "# fecha máxima\n",
        "print(sales['date'].max())"
      ],
      "execution_count": 196,
      "outputs": [
        {
          "output_type": "stream",
          "name": "stdout",
          "text": [
            "2012-10-26 00:00:00\n"
          ]
        }
      ]
    },
    {
      "cell_type": "code",
      "metadata": {
        "id": "x0qqY57AvLqc",
        "colab": {
          "base_uri": "https://localhost:8080/"
        },
        "outputId": "a5e7a81e-11b3-45bf-ff5f-d5977f1c5f35"
      },
      "source": [
        "# fecha mínima\n",
        "print(sales['date'].min())"
      ],
      "execution_count": 197,
      "outputs": [
        {
          "output_type": "stream",
          "name": "stdout",
          "text": [
            "2010-02-05 00:00:00\n"
          ]
        }
      ]
    },
    {
      "cell_type": "markdown",
      "metadata": {
        "id": "JEQw2MhYv2NR"
      },
      "source": [
        "### Metodo .agg()\n",
        "\n",
        "Permite calcular estadísticos personalizados a través de funciones definidas por el usuario."
      ]
    },
    {
      "cell_type": "code",
      "metadata": {
        "id": "KOAW7Ez9v5O4",
        "colab": {
          "base_uri": "https://localhost:8080/"
        },
        "outputId": "0b543fee-a77e-4b7a-bc16-04cdf8c3fb13"
      },
      "source": [
        "# Función personalizada para hallar rango intercuartil\n",
        "# Q3 - Q1\n",
        "def iqr(column):\n",
        "    return column.quantile(0.75) - column.quantile(0.25)\n",
        "\n",
        "print(sales[\"temperature_c\"].agg(iqr))"
      ],
      "execution_count": 198,
      "outputs": [
        {
          "output_type": "stream",
          "name": "stdout",
          "text": [
            "16.583333337000003\n"
          ]
        }
      ]
    },
    {
      "cell_type": "markdown",
      "metadata": {
        "id": "cjlRswaKy6FF"
      },
      "source": [
        "se puede aplicar a varias columnas a la vez"
      ]
    },
    {
      "cell_type": "code",
      "metadata": {
        "id": "jW0yUyMly5zq",
        "colab": {
          "base_uri": "https://localhost:8080/"
        },
        "outputId": "7ca4fd47-a0cb-4a4c-946e-15758e3012d1"
      },
      "source": [
        "# rango intercuartil para tres features\n",
        "print(sales[[\"temperature_c\", \"fuel_price_usd_per_l\", \"unemployment\"]].agg(iqr))"
      ],
      "execution_count": 199,
      "outputs": [
        {
          "output_type": "stream",
          "name": "stdout",
          "text": [
            "temperature_c           16.583333\n",
            "fuel_price_usd_per_l     0.073176\n",
            "unemployment             0.565000\n",
            "dtype: float64\n"
          ]
        }
      ]
    },
    {
      "cell_type": "markdown",
      "metadata": {
        "id": "BKljC1dDz3IF"
      },
      "source": [
        "o aplicar más de una función por columna"
      ]
    },
    {
      "cell_type": "code",
      "metadata": {
        "id": "SkkAT1C3z6MU",
        "colab": {
          "base_uri": "https://localhost:8080/"
        },
        "outputId": "ff5a4661-b602-4421-ae14-0f6b531f5cb4"
      },
      "source": [
        "# rango intercuartil y mediana de las tres variables\n",
        "print(sales[[\"temperature_c\", \"fuel_price_usd_per_l\", \"unemployment\"]].agg([iqr, np.median]))"
      ],
      "execution_count": 200,
      "outputs": [
        {
          "output_type": "stream",
          "name": "stdout",
          "text": [
            "        temperature_c  fuel_price_usd_per_l  unemployment\n",
            "iqr         16.583333              0.073176         0.565\n",
            "median      16.966667              0.743381         8.099\n"
          ]
        }
      ]
    },
    {
      "cell_type": "markdown",
      "metadata": {
        "id": "ltZdcFX61mJO"
      },
      "source": [
        "### Estadísticos acumulativos\n",
        "\n",
        "`.cummax()`, `.cummin()`, `.cumprod()`"
      ]
    },
    {
      "cell_type": "markdown",
      "metadata": {
        "id": "yQISQwVO3UsA"
      },
      "source": [
        "sales_1_1 es un nuevo dataFrame que contiene los datos de las ventas para el departamento 1, tienda 1."
      ]
    },
    {
      "cell_type": "code",
      "metadata": {
        "id": "faRPeAe61pFR",
        "colab": {
          "base_uri": "https://localhost:8080/",
          "height": 204
        },
        "outputId": "7df38606-3b10-48da-b53b-84aec586c9a4"
      },
      "source": [
        "sales_1_1 = sales[(sales['department'] == 1) & (sales['store'] == 1)]\n",
        "sales_1_1.head()"
      ],
      "execution_count": 201,
      "outputs": [
        {
          "output_type": "execute_result",
          "data": {
            "text/html": [
              "<div>\n",
              "<style scoped>\n",
              "    .dataframe tbody tr th:only-of-type {\n",
              "        vertical-align: middle;\n",
              "    }\n",
              "\n",
              "    .dataframe tbody tr th {\n",
              "        vertical-align: top;\n",
              "    }\n",
              "\n",
              "    .dataframe thead th {\n",
              "        text-align: right;\n",
              "    }\n",
              "</style>\n",
              "<table border=\"1\" class=\"dataframe\">\n",
              "  <thead>\n",
              "    <tr style=\"text-align: right;\">\n",
              "      <th></th>\n",
              "      <th>store</th>\n",
              "      <th>type</th>\n",
              "      <th>department</th>\n",
              "      <th>date</th>\n",
              "      <th>weekly_sales</th>\n",
              "      <th>is_holiday</th>\n",
              "      <th>temperature_c</th>\n",
              "      <th>fuel_price_usd_per_l</th>\n",
              "      <th>unemployment</th>\n",
              "    </tr>\n",
              "  </thead>\n",
              "  <tbody>\n",
              "    <tr>\n",
              "      <th>0</th>\n",
              "      <td>1</td>\n",
              "      <td>A</td>\n",
              "      <td>1</td>\n",
              "      <td>2010-02-05</td>\n",
              "      <td>24924.50</td>\n",
              "      <td>False</td>\n",
              "      <td>5.727778</td>\n",
              "      <td>0.679451</td>\n",
              "      <td>8.106</td>\n",
              "    </tr>\n",
              "    <tr>\n",
              "      <th>1</th>\n",
              "      <td>1</td>\n",
              "      <td>A</td>\n",
              "      <td>1</td>\n",
              "      <td>2010-03-05</td>\n",
              "      <td>21827.90</td>\n",
              "      <td>False</td>\n",
              "      <td>8.055556</td>\n",
              "      <td>0.693452</td>\n",
              "      <td>8.106</td>\n",
              "    </tr>\n",
              "    <tr>\n",
              "      <th>2</th>\n",
              "      <td>1</td>\n",
              "      <td>A</td>\n",
              "      <td>1</td>\n",
              "      <td>2010-04-02</td>\n",
              "      <td>57258.43</td>\n",
              "      <td>False</td>\n",
              "      <td>16.816667</td>\n",
              "      <td>0.718284</td>\n",
              "      <td>7.808</td>\n",
              "    </tr>\n",
              "    <tr>\n",
              "      <th>3</th>\n",
              "      <td>1</td>\n",
              "      <td>A</td>\n",
              "      <td>1</td>\n",
              "      <td>2010-05-07</td>\n",
              "      <td>17413.94</td>\n",
              "      <td>False</td>\n",
              "      <td>22.527778</td>\n",
              "      <td>0.748928</td>\n",
              "      <td>7.808</td>\n",
              "    </tr>\n",
              "    <tr>\n",
              "      <th>4</th>\n",
              "      <td>1</td>\n",
              "      <td>A</td>\n",
              "      <td>1</td>\n",
              "      <td>2010-06-04</td>\n",
              "      <td>17558.09</td>\n",
              "      <td>False</td>\n",
              "      <td>27.050000</td>\n",
              "      <td>0.714586</td>\n",
              "      <td>7.808</td>\n",
              "    </tr>\n",
              "  </tbody>\n",
              "</table>\n",
              "</div>"
            ],
            "text/plain": [
              "   store type  department       date  weekly_sales  is_holiday  temperature_c  \\\n",
              "0      1    A           1 2010-02-05      24924.50       False       5.727778   \n",
              "1      1    A           1 2010-03-05      21827.90       False       8.055556   \n",
              "2      1    A           1 2010-04-02      57258.43       False      16.816667   \n",
              "3      1    A           1 2010-05-07      17413.94       False      22.527778   \n",
              "4      1    A           1 2010-06-04      17558.09       False      27.050000   \n",
              "\n",
              "   fuel_price_usd_per_l  unemployment  \n",
              "0              0.679451         8.106  \n",
              "1              0.693452         8.106  \n",
              "2              0.718284         7.808  \n",
              "3              0.748928         7.808  \n",
              "4              0.714586         7.808  "
            ]
          },
          "metadata": {},
          "execution_count": 201
        }
      ]
    },
    {
      "cell_type": "code",
      "metadata": {
        "id": "wsbhSncp6JU7",
        "colab": {
          "base_uri": "https://localhost:8080/"
        },
        "outputId": "1903f299-4605-4287-880f-67ae5c76efc5"
      },
      "source": [
        "# Ordenar las filas por fecha en orden ascendente\n",
        "sales_1_1 = sales_1_1.sort_values(\"date\")\n",
        "\n",
        "# Crear una nueva columna con la suma acumulativa\n",
        "# de las ventas semanales\n",
        "sales_1_1[\"cum_weekly_sales\"] = sales_1_1[\"weekly_sales\"].cumsum()\n",
        "\n",
        "# Crear una nueva columna con el máximo acumulativo\n",
        "# de las ventas semanales\n",
        "sales_1_1[\"cum_max_sales\"] = sales_1_1[\"weekly_sales\"].cummax()\n",
        "\n",
        "# Imprimir solo las columnas de fecha, ventas semanales\n",
        "# y las dos columnas creadas\n",
        "print(sales_1_1[[\"date\", \"weekly_sales\", \"cum_weekly_sales\", \"cum_max_sales\"]])"
      ],
      "execution_count": 202,
      "outputs": [
        {
          "output_type": "stream",
          "name": "stdout",
          "text": [
            "         date  weekly_sales  cum_weekly_sales  cum_max_sales\n",
            "0  2010-02-05      24924.50          24924.50       24924.50\n",
            "1  2010-03-05      21827.90          46752.40       24924.50\n",
            "2  2010-04-02      57258.43         104010.83       57258.43\n",
            "3  2010-05-07      17413.94         121424.77       57258.43\n",
            "4  2010-06-04      17558.09         138982.86       57258.43\n",
            "5  2010-07-02      16333.14         155316.00       57258.43\n",
            "6  2010-08-06      17508.41         172824.41       57258.43\n",
            "7  2010-09-03      16241.78         189066.19       57258.43\n",
            "8  2010-10-01      20094.19         209160.38       57258.43\n",
            "9  2010-11-05      34238.88         243399.26       57258.43\n",
            "10 2010-12-03      22517.56         265916.82       57258.43\n",
            "11 2011-01-07      15984.24         281901.06       57258.43\n"
          ]
        }
      ]
    },
    {
      "cell_type": "markdown",
      "metadata": {
        "id": "uol6xZe_9rb9"
      },
      "source": [
        "## Conteo\n",
        "---\n",
        "\n",
        "Útil para resumir datos categóricos"
      ]
    },
    {
      "cell_type": "markdown",
      "metadata": {
        "id": "BGiazCyYPmeS"
      },
      "source": [
        "### Desechando duplicados"
      ]
    },
    {
      "cell_type": "code",
      "metadata": {
        "id": "KMyZ_CP59tqX",
        "colab": {
          "base_uri": "https://localhost:8080/"
        },
        "outputId": "a6e05668-1e68-4acf-ed29-ddd06e558ed8"
      },
      "source": [
        "# Remueve las filas con pares duplicados store-type\n",
        "store_types = sales.drop_duplicates(subset=[\"store\", \"type\"])\n",
        "print(store_types.head())"
      ],
      "execution_count": 203,
      "outputs": [
        {
          "output_type": "stream",
          "name": "stdout",
          "text": [
            "      store type  department       date  weekly_sales  is_holiday  \\\n",
            "0         1    A           1 2010-02-05      24924.50       False   \n",
            "901       2    A           1 2010-02-05      35034.06       False   \n",
            "1798      4    A           1 2010-02-05      38724.42       False   \n",
            "2699      6    A           1 2010-02-05      25619.00       False   \n",
            "3593     10    B           1 2010-02-05      40212.84       False   \n",
            "\n",
            "      temperature_c  fuel_price_usd_per_l  unemployment  \n",
            "0          5.727778              0.679451         8.106  \n",
            "901        4.550000              0.679451         8.324  \n",
            "1798       6.533333              0.686319         8.623  \n",
            "2699       4.683333              0.679451         7.259  \n",
            "3593      12.411111              0.782478         9.765  \n"
          ]
        }
      ]
    },
    {
      "cell_type": "code",
      "metadata": {
        "id": "tfkJdjUdQg11",
        "colab": {
          "base_uri": "https://localhost:8080/"
        },
        "outputId": "b6b33686-9946-4cd0-a650-f7fc75acaf12"
      },
      "source": [
        "# Remueve las filas con pares duplicados store-department\n",
        "store_depts = sales.drop_duplicates(subset=[\"store\", \"department\"])\n",
        "print(store_depts.head())"
      ],
      "execution_count": 204,
      "outputs": [
        {
          "output_type": "stream",
          "name": "stdout",
          "text": [
            "    store type  department       date  weekly_sales  is_holiday  \\\n",
            "0       1    A           1 2010-02-05      24924.50       False   \n",
            "12      1    A           2 2010-02-05      50605.27       False   \n",
            "24      1    A           3 2010-02-05      13740.12       False   \n",
            "36      1    A           4 2010-02-05      39954.04       False   \n",
            "48      1    A           5 2010-02-05      32229.38       False   \n",
            "\n",
            "    temperature_c  fuel_price_usd_per_l  unemployment  \n",
            "0        5.727778              0.679451         8.106  \n",
            "12       5.727778              0.679451         8.106  \n",
            "24       5.727778              0.679451         8.106  \n",
            "36       5.727778              0.679451         8.106  \n",
            "48       5.727778              0.679451         8.106  \n"
          ]
        }
      ]
    },
    {
      "cell_type": "markdown",
      "metadata": {
        "id": "MKLMCsigQ_HP"
      },
      "source": [
        "Tomar el subconjunto de las filas con semanas festivas y desechar las filas con fechas duplicadas."
      ]
    },
    {
      "cell_type": "code",
      "metadata": {
        "id": "0pthr3H7RCay",
        "colab": {
          "base_uri": "https://localhost:8080/"
        },
        "outputId": "dd0b0eea-1e1a-4be1-e07d-84024011b464"
      },
      "source": [
        "holiday_dates = sales[sales[\"is_holiday\"] == True].drop_duplicates(subset= \"date\")\n",
        "print(holiday_dates[\"date\"])"
      ],
      "execution_count": 205,
      "outputs": [
        {
          "output_type": "stream",
          "name": "stdout",
          "text": [
            "498    2010-09-10\n",
            "691    2011-11-25\n",
            "2315   2010-02-12\n",
            "6735   2012-09-07\n",
            "6810   2010-12-31\n",
            "6815   2012-02-10\n",
            "6820   2011-09-09\n",
            "Name: date, dtype: datetime64[ns]\n"
          ]
        }
      ]
    },
    {
      "cell_type": "markdown",
      "metadata": {
        "id": "KyHnC8IEYixd"
      },
      "source": [
        "### Contando valores únicos"
      ]
    },
    {
      "cell_type": "markdown",
      "metadata": {
        "id": "b-2vdhTAS_0_"
      },
      "source": [
        "Las semanas festivas corresponden al Superbowl en febrero, el Día del Trabajo en septiembre, el Día de Acción de Gracias en noviembre y la Navidad en diciembre. Ahora que se eliminaron los duplicados, se puede hacer un recuento."
      ]
    },
    {
      "cell_type": "code",
      "metadata": {
        "id": "W--j6kh3TAps",
        "colab": {
          "base_uri": "https://localhost:8080/"
        },
        "outputId": "6f503ef7-fb38-4839-e4fa-06b3c3a4d67a"
      },
      "source": [
        "# Contar el número de tiendas de cada tipo en store_types\n",
        "store_counts = store_types[\"type\"].value_counts()\n",
        "print(store_counts)\n",
        "\n",
        "print('----------------------------------------------------------------------')\n",
        "\n",
        "# Contar lo mismo en forma de proporción\n",
        "store_props = store_types[\"type\"].value_counts(normalize=True)\n",
        "print(store_props)\n",
        "\n",
        "print('----------------------------------------------------------------------')\n",
        "\n",
        "# Contar el número de departamentos diferentes en store_depts\n",
        "# ordenando el conteo de forma descendente\n",
        "dept_counts_sorted = store_depts[\"department\"].value_counts(sort=True)\n",
        "print(dept_counts_sorted)\n",
        "\n",
        "print('----------------------------------------------------------------------')\n",
        "\n",
        "# Contar los departamentos en forma de proporción\n",
        "# y ordenar de forma ascendente\n",
        "dept_props_sorted = store_depts[\"department\"].value_counts(normalize=True, sort=True, ascending=True)\n",
        "print(dept_props_sorted)"
      ],
      "execution_count": 206,
      "outputs": [
        {
          "output_type": "stream",
          "name": "stdout",
          "text": [
            "A    11\n",
            "B     1\n",
            "Name: type, dtype: int64\n",
            "----------------------------------------------------------------------\n",
            "A    0.916667\n",
            "B    0.083333\n",
            "Name: type, dtype: float64\n",
            "----------------------------------------------------------------------\n",
            "41    12\n",
            "30    12\n",
            "23    12\n",
            "24    12\n",
            "25    12\n",
            "      ..\n",
            "37    10\n",
            "48     8\n",
            "50     6\n",
            "39     4\n",
            "43     2\n",
            "Name: department, Length: 80, dtype: int64\n",
            "----------------------------------------------------------------------\n",
            "43    0.002153\n",
            "39    0.004306\n",
            "50    0.006459\n",
            "48    0.008611\n",
            "37    0.010764\n",
            "        ...   \n",
            "25    0.012917\n",
            "24    0.012917\n",
            "23    0.012917\n",
            "30    0.012917\n",
            "41    0.012917\n",
            "Name: department, Length: 80, dtype: float64\n"
          ]
        }
      ]
    },
    {
      "cell_type": "markdown",
      "metadata": {
        "id": "3UFdQTrpYoiK"
      },
      "source": [
        "## Estadísticos de resumen agrupados\n",
        "---"
      ]
    },
    {
      "cell_type": "markdown",
      "metadata": {
        "id": "MV-vQ06bbFyo"
      },
      "source": [
        "¿Qué porcentaje de ventas ocurren en cada tipo de tienda?"
      ]
    },
    {
      "cell_type": "code",
      "metadata": {
        "id": "U-2wxy5pYtDS",
        "colab": {
          "base_uri": "https://localhost:8080/"
        },
        "outputId": "18f0061f-7996-4875-ebde-3be1bfcfd0a9"
      },
      "source": [
        "# Calcular las ventas totales semanales de todo el dataset\n",
        "sales_all = sales[\"weekly_sales\"].sum()\n",
        "\n",
        "# Dividir por conjuntos según el tipo de tienda\n",
        "# y calcular las ventas totales semanales\n",
        "sales_A = sales[sales[\"type\"] == \"A\"][\"weekly_sales\"].sum()\n",
        "sales_B = sales[sales[\"type\"] == \"B\"][\"weekly_sales\"].sum()\n",
        "sales_C = sales[sales[\"type\"] == \"C\"][\"weekly_sales\"].sum()\n",
        "\n",
        "# Calcular la proporción por cada tipo combinando los\n",
        "# resultados anteriores en una lista y dividiendo entre `sales_all`\n",
        "sales_propn_by_type = [sales_A, sales_B, sales_C] / sales_all\n",
        "print(sales_propn_by_type)"
      ],
      "execution_count": 207,
      "outputs": [
        {
          "output_type": "stream",
          "name": "stdout",
          "text": [
            "[0.9097747 0.0902253 0.       ]\n"
          ]
        }
      ]
    },
    {
      "cell_type": "markdown",
      "metadata": {
        "id": "JQVgubeZd5qq"
      },
      "source": [
        "### Usando `.groupby()`"
      ]
    },
    {
      "cell_type": "code",
      "metadata": {
        "id": "FgxrVIWQd3Hg",
        "colab": {
          "base_uri": "https://localhost:8080/"
        },
        "outputId": "1e8c2ea0-1e83-4d37-dbbd-880bfcf78ed4"
      },
      "source": [
        "# Agrupar por tipo y calcular el total de ventas semanales\n",
        "sales_by_type = sales.groupby(\"type\")[\"weekly_sales\"].sum()\n",
        "\n",
        "# Calcular la proporción de cada tipo\n",
        "sales_propn_by_type = sales_by_type / sum(sales[\"weekly_sales\"])\n",
        "print(sales_propn_by_type)"
      ],
      "execution_count": 208,
      "outputs": [
        {
          "output_type": "stream",
          "name": "stdout",
          "text": [
            "type\n",
            "A    0.909775\n",
            "B    0.090225\n",
            "Name: weekly_sales, dtype: float64\n"
          ]
        }
      ]
    },
    {
      "cell_type": "code",
      "metadata": {
        "id": "m3QrwO7ue3UI",
        "colab": {
          "base_uri": "https://localhost:8080/"
        },
        "outputId": "8416aebb-803c-4042-dff1-e7c7707accf0"
      },
      "source": [
        "# Agrupar por 'type' y 'is_holiday'; calcular ventas totales semanales\n",
        "sales_by_type_is_holiday = sales.groupby([\"type\", \"is_holiday\"])[\"weekly_sales\"].sum()\n",
        "print(sales_by_type_is_holiday)"
      ],
      "execution_count": 209,
      "outputs": [
        {
          "output_type": "stream",
          "name": "stdout",
          "text": [
            "type  is_holiday\n",
            "A     False         2.336927e+08\n",
            "      True          2.360181e+04\n",
            "B     False         2.317678e+07\n",
            "      True          1.621410e+03\n",
            "Name: weekly_sales, dtype: float64\n"
          ]
        }
      ]
    },
    {
      "cell_type": "markdown",
      "metadata": {
        "id": "D1K-Ldcmf1dG"
      },
      "source": [
        "### Múltiples resúmenes agrupados"
      ]
    },
    {
      "cell_type": "code",
      "metadata": {
        "id": "PrukqgwofrKM",
        "colab": {
          "base_uri": "https://localhost:8080/"
        },
        "outputId": "d50e14e9-c3db-4c12-be3f-d4c001c74186"
      },
      "source": [
        "# Para cada tipo de tienda, agregar el max, min, media y mediana\n",
        "# de las ventas semanales\n",
        "sales_stats = sales.groupby(\"type\")[\"weekly_sales\"].agg([np.min, np.max, np.mean, np.median])\n",
        "print(sales_stats)\n",
        "\n",
        "print('----------------------------------------------------------------------')\n",
        "\n",
        "# Por cada tipo de tienda, agregar el max, min, media y mediana de 'unemployment'\n",
        "# y 'fuel_price_usd_per_l'\n",
        "unemp_fuel_stats = sales.groupby([\"type\"])[\"unemployment\", \"fuel_price_usd_per_l\"].agg([np.min, np.max, np.mean, np.median])\n",
        "print(unemp_fuel_stats)"
      ],
      "execution_count": 210,
      "outputs": [
        {
          "output_type": "stream",
          "name": "stdout",
          "text": [
            "        amin       amax          mean    median\n",
            "type                                           \n",
            "A    -1098.0  293966.05  23674.667242  11943.92\n",
            "B     -798.0  232558.51  25696.678370  13336.08\n",
            "----------------------------------------------------------------------\n",
            "     unemployment                         fuel_price_usd_per_l            \\\n",
            "             amin   amax      mean median                 amin      amax   \n",
            "type                                                                       \n",
            "A           3.879  8.992  7.972611  8.067             0.664129  1.107410   \n",
            "B           7.170  9.765  9.279323  9.199             0.760023  1.107674   \n",
            "\n",
            "                          \n",
            "          mean    median  \n",
            "type                      \n",
            "A     0.744619  0.735455  \n",
            "B     0.805858  0.803348  \n"
          ]
        },
        {
          "output_type": "stream",
          "name": "stderr",
          "text": [
            "/usr/local/lib/python3.7/dist-packages/ipykernel_launcher.py:10: FutureWarning: Indexing with multiple keys (implicitly converted to a tuple of keys) will be deprecated, use a list instead.\n",
            "  # Remove the CWD from sys.path while we load stuff.\n"
          ]
        }
      ]
    },
    {
      "cell_type": "markdown",
      "metadata": {
        "id": "VbDR9mbGlLAS"
      },
      "source": [
        "## Tablas pivote (tablas dinámicas)\n",
        "---\n",
        "\n",
        "Otra forma para realizar calculos agrupados. El metodo `.pivot_table()` es una alternativa a `.groupby()`."
      ]
    },
    {
      "cell_type": "markdown",
      "metadata": {
        "id": "rKn8H8LC0rLO"
      },
      "source": [
        "### Tabla pivote con una variable"
      ]
    },
    {
      "cell_type": "code",
      "metadata": {
        "id": "zHl2SVuylOoh",
        "colab": {
          "base_uri": "https://localhost:8080/"
        },
        "outputId": "f922925b-d5e7-47c8-c46b-b4221666b5ba"
      },
      "source": [
        "# Calcular la media de las ventas semanales por tipo de tienda\n",
        "mean_sales_by_type = sales.pivot_table(values=\"weekly_sales\", index=\"type\")\n",
        "print(mean_sales_by_type)"
      ],
      "execution_count": 211,
      "outputs": [
        {
          "output_type": "stream",
          "name": "stdout",
          "text": [
            "      weekly_sales\n",
            "type              \n",
            "A     23674.667242\n",
            "B     25696.678370\n"
          ]
        }
      ]
    },
    {
      "cell_type": "code",
      "metadata": {
        "id": "sTppP1zw2Jq2",
        "colab": {
          "base_uri": "https://localhost:8080/"
        },
        "outputId": "02da93a2-0cb6-4fd4-ae8f-16853c516cd8"
      },
      "source": [
        "# lo mismo pero con la media y la mediana\n",
        "mean_med_sales_by_type = sales.pivot_table(values=\"weekly_sales\", index=\"type\", aggfunc=[np.mean, np.median])\n",
        "print(mean_med_sales_by_type)"
      ],
      "execution_count": 212,
      "outputs": [
        {
          "output_type": "stream",
          "name": "stdout",
          "text": [
            "              mean       median\n",
            "      weekly_sales weekly_sales\n",
            "type                           \n",
            "A     23674.667242     11943.92\n",
            "B     25696.678370     13336.08\n"
          ]
        }
      ]
    },
    {
      "cell_type": "code",
      "metadata": {
        "id": "JmejfgXF2u9c",
        "colab": {
          "base_uri": "https://localhost:8080/"
        },
        "outputId": "9d75bea9-f0c7-4066-830d-6e4d119e8420"
      },
      "source": [
        "# media de las ventas semanales por type y holiday\n",
        "mean_sales_by_type_holiday = sales.pivot_table(values=\"weekly_sales\", index=\"type\", columns=\"is_holiday\")\n",
        "print(mean_sales_by_type_holiday)"
      ],
      "execution_count": 213,
      "outputs": [
        {
          "output_type": "stream",
          "name": "stdout",
          "text": [
            "is_holiday         False      True \n",
            "type                               \n",
            "A           23768.583523  590.04525\n",
            "B           25751.980533  810.70500\n"
          ]
        }
      ]
    },
    {
      "cell_type": "markdown",
      "metadata": {
        "id": "1evVhZlU3YNg"
      },
      "source": [
        "### Llenando valores faltantes y sumando valores con tablas dinámicas\n",
        "\n",
        "El método `.pivot_table()` tiene varios argumentos útiles, como `fill_value` y `margins`.\n",
        "\n",
        "* `fill_value` reemplaza los valores faltantes con un valor real (conocido como imputación).\n",
        "\n",
        "* `margins` es un atajo para cuando se pivota por dos variables, pero también se quería pivotar por cada una de esas variables por separado (da los totales de fila y columna del contenido de la tabla dinámica).\n"
      ]
    },
    {
      "cell_type": "code",
      "metadata": {
        "id": "xY_XZEdG3hZE",
        "colab": {
          "base_uri": "https://localhost:8080/"
        },
        "outputId": "e677e2f9-670e-44e0-98dc-898fd80175df"
      },
      "source": [
        "# Imprimir la media de las ventas semanales por departamento y tipo\n",
        "# llenar los valores faltantes con cero (0) y sumarizar todas\n",
        "# las filas y columnas\n",
        "print(sales.pivot_table(values=\"weekly_sales\", index=\"department\", columns=\"type\", fill_value=0, margins=True))"
      ],
      "execution_count": 214,
      "outputs": [
        {
          "output_type": "stream",
          "name": "stdout",
          "text": [
            "type                   A              B           All\n",
            "department                                           \n",
            "1           30961.725379   44050.626667  32052.467153\n",
            "2           67600.158788  112958.526667  71380.022778\n",
            "3           17160.002955   30580.655000  18278.390625\n",
            "4           44285.399091   51219.654167  44863.253681\n",
            "5           34821.011364   63236.875000  37189.000000\n",
            "...                  ...            ...           ...\n",
            "96          21367.042857    9528.538333  20337.607681\n",
            "97          28471.266970    5828.873333  26584.400833\n",
            "98          12875.423182     217.428333  11820.590278\n",
            "99            379.123659       0.000000    379.123659\n",
            "All         23674.667242   25696.678370  23843.950149\n",
            "\n",
            "[81 rows x 3 columns]\n"
          ]
        }
      ]
    },
    {
      "cell_type": "markdown",
      "metadata": {
        "id": "9euBTPGfh8l-"
      },
      "source": [
        "## Índices explícitos\n",
        "---\n",
        "\n",
        "`temperatures` contiene la temperatura promedio en grados centígrados de varias ciudades del mundo por fecha."
      ]
    },
    {
      "cell_type": "code",
      "metadata": {
        "id": "fvVZPB78h-jX"
      },
      "source": [
        "temperatures = pd.read_csv('/content/sample_data/temperatures.csv')"
      ],
      "execution_count": 215,
      "outputs": []
    },
    {
      "cell_type": "markdown",
      "metadata": {
        "id": "XnFwS8qklRRO"
      },
      "source": [
        "### Configuración y eliminación de índices"
      ]
    },
    {
      "cell_type": "code",
      "metadata": {
        "id": "Er8p772DkzXA",
        "colab": {
          "base_uri": "https://localhost:8080/"
        },
        "outputId": "4103a5af-fd4e-4a8b-a780-a6d33c54ed80"
      },
      "source": [
        "print(temperatures.head())\n",
        "\n",
        "print('----------------------------------------------------------------------')\n",
        "\n",
        "# Indexar por ciudad\n",
        "t_ind = temperatures.set_index(\"city\")\n",
        "print(t_ind.head())\n",
        "\n",
        "print('----------------------------------------------------------------------')\n",
        "\n",
        "# Reestablecer el indice, manteniendo su contenido\n",
        "print(t_ind.reset_index())\n",
        "\n",
        "print('----------------------------------------------------------------------')\n",
        "\n",
        "# Reestablecer el indice, desechando su contenido\n",
        "print(t_ind.reset_index(drop=True))"
      ],
      "execution_count": 216,
      "outputs": [
        {
          "output_type": "stream",
          "name": "stdout",
          "text": [
            "       date     city        country  avg_temp_c\n",
            "0  00/01/01  Abidjan  Côte D'Ivoire      27.293\n",
            "1  00/02/01  Abidjan  Côte D'Ivoire      27.685\n",
            "2  00/03/01  Abidjan  Côte D'Ivoire      29.061\n",
            "3  00/04/01  Abidjan  Côte D'Ivoire      28.162\n",
            "4  00/05/01  Abidjan  Côte D'Ivoire      27.547\n",
            "----------------------------------------------------------------------\n",
            "             date        country  avg_temp_c\n",
            "city                                        \n",
            "Abidjan  00/01/01  Côte D'Ivoire      27.293\n",
            "Abidjan  00/02/01  Côte D'Ivoire      27.685\n",
            "Abidjan  00/03/01  Côte D'Ivoire      29.061\n",
            "Abidjan  00/04/01  Côte D'Ivoire      28.162\n",
            "Abidjan  00/05/01  Côte D'Ivoire      27.547\n",
            "----------------------------------------------------------------------\n",
            "          city      date        country  avg_temp_c\n",
            "0      Abidjan  00/01/01  Côte D'Ivoire      27.293\n",
            "1      Abidjan  00/02/01  Côte D'Ivoire      27.685\n",
            "2      Abidjan  00/03/01  Côte D'Ivoire      29.061\n",
            "3      Abidjan  00/04/01  Côte D'Ivoire      28.162\n",
            "4      Abidjan  00/05/01  Côte D'Ivoire      27.547\n",
            "...        ...       ...            ...         ...\n",
            "16495     Xian  13/05/01          China      18.979\n",
            "16496     Xian  13/06/01          China      23.522\n",
            "16497     Xian  13/07/01          China      25.251\n",
            "16498     Xian  13/08/01          China      24.528\n",
            "16499     Xian  13/09/01          China         NaN\n",
            "\n",
            "[16500 rows x 4 columns]\n",
            "----------------------------------------------------------------------\n",
            "           date        country  avg_temp_c\n",
            "0      00/01/01  Côte D'Ivoire      27.293\n",
            "1      00/02/01  Côte D'Ivoire      27.685\n",
            "2      00/03/01  Côte D'Ivoire      29.061\n",
            "3      00/04/01  Côte D'Ivoire      28.162\n",
            "4      00/05/01  Côte D'Ivoire      27.547\n",
            "...         ...            ...         ...\n",
            "16495  13/05/01          China      18.979\n",
            "16496  13/06/01          China      23.522\n",
            "16497  13/07/01          China      25.251\n",
            "16498  13/08/01          China      24.528\n",
            "16499  13/09/01          China         NaN\n",
            "\n",
            "[16500 rows x 3 columns]\n"
          ]
        }
      ]
    },
    {
      "cell_type": "markdown",
      "metadata": {
        "id": "pyu_aHQhml62"
      },
      "source": [
        "`.loc[ ]` es un método de filtrado que acepta valores de índices. Cuando se le pasa un único argumento, toma un subconjunto de filas.\n",
        "Este método puede ser más fácil de leer que el método estándar.\n"
      ]
    },
    {
      "cell_type": "code",
      "metadata": {
        "id": "_I31QmrImYtj"
      },
      "source": [
        "# fijando las ciudades como indices\n",
        "temperatures_ind = temperatures.set_index(\"city\")"
      ],
      "execution_count": 217,
      "outputs": []
    },
    {
      "cell_type": "markdown",
      "metadata": {
        "id": "P6L_Jmz0peSd"
      },
      "source": [
        "Cree una lista llamada `cities` que contenga a \"Moscow\" y \"Saint Petersburg\" como elementos. Use `[ ]` para filtrar el dataset `temperatures` por filas donde la columna `city` tenga un valor de la lista `cities`.\n",
        "Use `.loc[ ]` para hacer lo mismo, pero en el dataset `temperatures_ind`, aprovechando que el índice son las ciudades (columna `city`).\n"
      ]
    },
    {
      "cell_type": "code",
      "metadata": {
        "id": "_Aq4Deyvpf6a",
        "colab": {
          "base_uri": "https://localhost:8080/"
        },
        "outputId": "bfe54d70-95f1-47e9-e6d0-748e5e95f1f2"
      },
      "source": [
        "# Crear lista de ciudades a filtrar\n",
        "cities = [\"Moscow\", \"Saint Petersburg\"]\n",
        "\n",
        "# Sacar subconjunto de `temperatures` usando corchetes\n",
        "print(temperatures[temperatures[\"city\"].isin(cities)])\n",
        "\n",
        "print('----------------------------------------------------------------------')\n",
        "\n",
        "# Sacar subconjunto de `temperatures_ind` usando `.loc[]`\n",
        "# aprovechando que se fijó \"city\" como índice\n",
        "print(temperatures_ind.loc[cities])"
      ],
      "execution_count": 218,
      "outputs": [
        {
          "output_type": "stream",
          "name": "stdout",
          "text": [
            "           date              city country  avg_temp_c\n",
            "10725  00/01/01            Moscow  Russia      -7.313\n",
            "10726  00/02/01            Moscow  Russia      -3.551\n",
            "10727  00/03/01            Moscow  Russia      -1.661\n",
            "10728  00/04/01            Moscow  Russia      10.096\n",
            "10729  00/05/01            Moscow  Russia      10.357\n",
            "...         ...               ...     ...         ...\n",
            "13360  13/05/01  Saint Petersburg  Russia      12.355\n",
            "13361  13/06/01  Saint Petersburg  Russia      17.185\n",
            "13362  13/07/01  Saint Petersburg  Russia      17.234\n",
            "13363  13/08/01  Saint Petersburg  Russia      17.153\n",
            "13364  13/09/01  Saint Petersburg  Russia         NaN\n",
            "\n",
            "[330 rows x 4 columns]\n",
            "----------------------------------------------------------------------\n",
            "                      date country  avg_temp_c\n",
            "city                                          \n",
            "Moscow            00/01/01  Russia      -7.313\n",
            "Moscow            00/02/01  Russia      -3.551\n",
            "Moscow            00/03/01  Russia      -1.661\n",
            "Moscow            00/04/01  Russia      10.096\n",
            "Moscow            00/05/01  Russia      10.357\n",
            "...                    ...     ...         ...\n",
            "Saint Petersburg  13/05/01  Russia      12.355\n",
            "Saint Petersburg  13/06/01  Russia      17.185\n",
            "Saint Petersburg  13/07/01  Russia      17.234\n",
            "Saint Petersburg  13/08/01  Russia      17.153\n",
            "Saint Petersburg  13/09/01  Russia         NaN\n",
            "\n",
            "[330 rows x 3 columns]\n"
          ]
        }
      ]
    },
    {
      "cell_type": "markdown",
      "metadata": {
        "id": "Ix9roQ6uqOq6"
      },
      "source": [
        "### Configuración de índices de varios niveles\n",
        "\n",
        "También se puede indexar a partir de múltiples columnas, formando un índice multinivel (también llamado índice jerárquico).\n",
        "\n",
        "El beneficio de este tipo de indexado es que hace que sea más natural pensar en variables categóricas anidadas. (Para el ejemplo de las temperaturas se puede decir que una ciudad esta anidada dentro de un país).\n",
        "\n",
        "La principal desventaja es que el código para manipular índices es diferente del código para manipular columnas, complicando un poco las cosas.\n"
      ]
    },
    {
      "cell_type": "code",
      "metadata": {
        "id": "rp2vw68GqRit",
        "colab": {
          "base_uri": "https://localhost:8080/"
        },
        "outputId": "a13ae25a-cd4e-4287-9f90-3004ba469603"
      },
      "source": [
        "# Indexar por país y ciudad\n",
        "temperatures_ind = temperatures.set_index([\"country\", \"city\"])\n",
        "\n",
        "# lista de tuplas a mantener: Brazil, Rio De Janeiro & Pakistan, Lahore\n",
        "rows_to_keep = [(\"Brazil\", \"Rio De Janeiro\"),(\"Pakistan\", \"Lahore\")]\n",
        "\n",
        "# Subconjunto de filas que se mantienen\n",
        "print(temperatures_ind.loc[rows_to_keep])"
      ],
      "execution_count": 219,
      "outputs": [
        {
          "output_type": "stream",
          "name": "stdout",
          "text": [
            "                             date  avg_temp_c\n",
            "country  city                                \n",
            "Brazil   Rio De Janeiro  00/01/01      25.974\n",
            "         Rio De Janeiro  00/02/01      26.699\n",
            "         Rio De Janeiro  00/03/01      26.270\n",
            "         Rio De Janeiro  00/04/01      25.750\n",
            "         Rio De Janeiro  00/05/01      24.356\n",
            "...                           ...         ...\n",
            "Pakistan Lahore          13/05/01      33.457\n",
            "         Lahore          13/06/01      34.456\n",
            "         Lahore          13/07/01      33.279\n",
            "         Lahore          13/08/01      31.511\n",
            "         Lahore          13/09/01         NaN\n",
            "\n",
            "[330 rows x 2 columns]\n"
          ]
        }
      ]
    },
    {
      "cell_type": "markdown",
      "metadata": {
        "id": "YOW4DXAr7IuL"
      },
      "source": [
        "### Ordenar por valores de índice\n",
        "\n",
        "Antes se vió como cambiar el orden de las filas en un DataFrame usando `.sort_values()`. También es de utilidad poder ordenar por elementos en el índice. Para esto, se usa `.sort_index()`."
      ]
    },
    {
      "cell_type": "code",
      "metadata": {
        "id": "_LXfbCug7KFr",
        "colab": {
          "base_uri": "https://localhost:8080/"
        },
        "outputId": "e94091f7-ed96-4f40-d9dc-b992df811108"
      },
      "source": [
        "# Ordenar por valor del índice\n",
        "print(temperatures_ind.sort_index())\n",
        "\n",
        "print('----------------------------------------------------------------------')\n",
        "\n",
        "# Ordenar por valor del índice a nivel de ciudad\n",
        "print(temperatures_ind.sort_index(level=\"city\"))\n",
        "\n",
        "print('----------------------------------------------------------------------')\n",
        "\n",
        "# Ordenar por país y luego por ciudad descendente\n",
        "print(temperatures_ind.sort_index(level=[\"country\", \"city\"], ascending=[True, False]))"
      ],
      "execution_count": 220,
      "outputs": [
        {
          "output_type": "stream",
          "name": "stdout",
          "text": [
            "                        date  avg_temp_c\n",
            "country     city                        \n",
            "Afghanistan Kabul   00/01/01       3.326\n",
            "            Kabul   00/02/01       3.454\n",
            "            Kabul   00/03/01       9.612\n",
            "            Kabul   00/04/01      17.925\n",
            "            Kabul   00/05/01      24.658\n",
            "...                      ...         ...\n",
            "Zimbabwe    Harare  13/05/01      18.298\n",
            "            Harare  13/06/01      17.020\n",
            "            Harare  13/07/01      16.299\n",
            "            Harare  13/08/01      19.232\n",
            "            Harare  13/09/01         NaN\n",
            "\n",
            "[16500 rows x 2 columns]\n",
            "----------------------------------------------------------------------\n",
            "                           date  avg_temp_c\n",
            "country       city                         \n",
            "Côte D'Ivoire Abidjan  00/01/01      27.293\n",
            "              Abidjan  00/02/01      27.685\n",
            "              Abidjan  00/03/01      29.061\n",
            "              Abidjan  00/04/01      28.162\n",
            "              Abidjan  00/05/01      27.547\n",
            "...                         ...         ...\n",
            "China         Xian     13/05/01      18.979\n",
            "              Xian     13/06/01      23.522\n",
            "              Xian     13/07/01      25.251\n",
            "              Xian     13/08/01      24.528\n",
            "              Xian     13/09/01         NaN\n",
            "\n",
            "[16500 rows x 2 columns]\n",
            "----------------------------------------------------------------------\n",
            "                        date  avg_temp_c\n",
            "country     city                        \n",
            "Afghanistan Kabul   00/01/01       3.326\n",
            "            Kabul   00/02/01       3.454\n",
            "            Kabul   00/03/01       9.612\n",
            "            Kabul   00/04/01      17.925\n",
            "            Kabul   00/05/01      24.658\n",
            "...                      ...         ...\n",
            "Zimbabwe    Harare  13/05/01      18.298\n",
            "            Harare  13/06/01      17.020\n",
            "            Harare  13/07/01      16.299\n",
            "            Harare  13/08/01      19.232\n",
            "            Harare  13/09/01         NaN\n",
            "\n",
            "[16500 rows x 2 columns]\n"
          ]
        }
      ]
    },
    {
      "cell_type": "markdown",
      "metadata": {
        "id": "t9zL9AcSSHdn"
      },
      "source": [
        "## Filtrando con `.loc` y `.iloc`\n",
        "---\n",
        "\n",
        "Con estos métodos se pueden tomar porciones definidas del conjunto de datos."
      ]
    },
    {
      "cell_type": "markdown",
      "metadata": {
        "id": "asm5XLZ3W_VF"
      },
      "source": [
        "### Por valor de índice"
      ]
    },
    {
      "cell_type": "code",
      "metadata": {
        "id": "ow67-0NbSG0v",
        "colab": {
          "base_uri": "https://localhost:8080/"
        },
        "outputId": "03a6f383-5d62-490b-b57b-16d4bea4047c"
      },
      "source": [
        "# Rebanando por índices\n",
        "temperatures_srt = temperatures_ind.sort_index()\n",
        "\n",
        "# Subconjunto de filas entre Pakistan y Russia\n",
        "print(temperatures_srt.loc[\"Pakistan\" : \"Russia\"])\n",
        "\n",
        "print('----------------------------------------------------------------------')\n",
        "\n",
        "# Subconjunto de filas desde Pakistan, Lahore hasta Rusia, Moscu\n",
        "print(temperatures_srt.loc[(\"Pakistan\", \"Lahore\") : (\"Russia\", \"Moscow\")])"
      ],
      "execution_count": 221,
      "outputs": [
        {
          "output_type": "stream",
          "name": "stdout",
          "text": [
            "                               date  avg_temp_c\n",
            "country  city                                  \n",
            "Pakistan Faisalabad        00/01/01      12.792\n",
            "         Faisalabad        00/02/01      14.339\n",
            "         Faisalabad        00/03/01      20.309\n",
            "         Faisalabad        00/04/01      29.072\n",
            "         Faisalabad        00/05/01      34.845\n",
            "...                             ...         ...\n",
            "Russia   Saint Petersburg  13/05/01      12.355\n",
            "         Saint Petersburg  13/06/01      17.185\n",
            "         Saint Petersburg  13/07/01      17.234\n",
            "         Saint Petersburg  13/08/01      17.153\n",
            "         Saint Petersburg  13/09/01         NaN\n",
            "\n",
            "[1155 rows x 2 columns]\n",
            "----------------------------------------------------------------------\n",
            "                     date  avg_temp_c\n",
            "country  city                        \n",
            "Pakistan Lahore  00/01/01      12.792\n",
            "         Lahore  00/02/01      14.339\n",
            "         Lahore  00/03/01      20.309\n",
            "         Lahore  00/04/01      29.072\n",
            "         Lahore  00/05/01      34.845\n",
            "...                   ...         ...\n",
            "Russia   Moscow  13/05/01      16.152\n",
            "         Moscow  13/06/01      18.718\n",
            "         Moscow  13/07/01      18.136\n",
            "         Moscow  13/08/01      17.485\n",
            "         Moscow  13/09/01         NaN\n",
            "\n",
            "[660 rows x 2 columns]\n"
          ]
        }
      ]
    },
    {
      "cell_type": "markdown",
      "metadata": {
        "id": "nHZ9EB5uXEiW"
      },
      "source": [
        "### Por filas y columnas simultaneamente"
      ]
    },
    {
      "cell_type": "code",
      "metadata": {
        "id": "8yBPBgx7W1QZ",
        "colab": {
          "base_uri": "https://localhost:8080/"
        },
        "outputId": "9d2b484e-b29b-424b-8b23-cf8aee50f92a"
      },
      "source": [
        "# Rebanando en ambas direcciones\n",
        "# Subconjunto de filas desde India, Hyderabad hasta Iraq, Baghdad\n",
        "print(temperatures_srt.loc[(\"India\", \"Hyderabad\") : (\"Iraq\", \"Baghdad\")])\n",
        "\n",
        "print('----------------------------------------------------------------------')\n",
        "\n",
        "# Subconjunto columnas desde date hasta avg_temp_c\n",
        "print(temperatures_srt.loc[:, \"date\" : \"avg_temp_c\"])\n",
        "\n",
        "print('----------------------------------------------------------------------')\n",
        "\n",
        "# Rebanando al mismo tiempo filas y columnas\n",
        "print(temperatures_srt.loc[(\"India\", \"Hyderabad\") : (\"Iraq\", \"Baghdad\"), \"date\" : \"avg_temp_c\"])"
      ],
      "execution_count": 222,
      "outputs": [
        {
          "output_type": "stream",
          "name": "stdout",
          "text": [
            "                       date  avg_temp_c\n",
            "country city                           \n",
            "India   Hyderabad  00/01/01      23.779\n",
            "        Hyderabad  00/02/01      25.826\n",
            "        Hyderabad  00/03/01      28.821\n",
            "        Hyderabad  00/04/01      32.698\n",
            "        Hyderabad  00/05/01      32.438\n",
            "...                     ...         ...\n",
            "Iraq    Baghdad    13/05/01      28.673\n",
            "        Baghdad    13/06/01      33.803\n",
            "        Baghdad    13/07/01      36.392\n",
            "        Baghdad    13/08/01      35.463\n",
            "        Baghdad    13/09/01         NaN\n",
            "\n",
            "[2145 rows x 2 columns]\n",
            "----------------------------------------------------------------------\n",
            "                        date  avg_temp_c\n",
            "country     city                        \n",
            "Afghanistan Kabul   00/01/01       3.326\n",
            "            Kabul   00/02/01       3.454\n",
            "            Kabul   00/03/01       9.612\n",
            "            Kabul   00/04/01      17.925\n",
            "            Kabul   00/05/01      24.658\n",
            "...                      ...         ...\n",
            "Zimbabwe    Harare  13/05/01      18.298\n",
            "            Harare  13/06/01      17.020\n",
            "            Harare  13/07/01      16.299\n",
            "            Harare  13/08/01      19.232\n",
            "            Harare  13/09/01         NaN\n",
            "\n",
            "[16500 rows x 2 columns]\n",
            "----------------------------------------------------------------------\n",
            "                       date  avg_temp_c\n",
            "country city                           \n",
            "India   Hyderabad  00/01/01      23.779\n",
            "        Hyderabad  00/02/01      25.826\n",
            "        Hyderabad  00/03/01      28.821\n",
            "        Hyderabad  00/04/01      32.698\n",
            "        Hyderabad  00/05/01      32.438\n",
            "...                     ...         ...\n",
            "Iraq    Baghdad    13/05/01      28.673\n",
            "        Baghdad    13/06/01      33.803\n",
            "        Baghdad    13/07/01      36.392\n",
            "        Baghdad    13/08/01      35.463\n",
            "        Baghdad    13/09/01         NaN\n",
            "\n",
            "[2145 rows x 2 columns]\n"
          ]
        }
      ]
    },
    {
      "cell_type": "markdown",
      "metadata": {
        "id": "6B3zdgotZDtk"
      },
      "source": [
        "### Rebanando series de tiempo"
      ]
    },
    {
      "cell_type": "code",
      "metadata": {
        "id": "s53KNDsEZMek",
        "colab": {
          "base_uri": "https://localhost:8080/",
          "height": 204
        },
        "outputId": "ad2ce900-f7ad-4404-8ba9-bf37a4ec039a"
      },
      "source": [
        "temperatures.head()"
      ],
      "execution_count": 223,
      "outputs": [
        {
          "output_type": "execute_result",
          "data": {
            "text/html": [
              "<div>\n",
              "<style scoped>\n",
              "    .dataframe tbody tr th:only-of-type {\n",
              "        vertical-align: middle;\n",
              "    }\n",
              "\n",
              "    .dataframe tbody tr th {\n",
              "        vertical-align: top;\n",
              "    }\n",
              "\n",
              "    .dataframe thead th {\n",
              "        text-align: right;\n",
              "    }\n",
              "</style>\n",
              "<table border=\"1\" class=\"dataframe\">\n",
              "  <thead>\n",
              "    <tr style=\"text-align: right;\">\n",
              "      <th></th>\n",
              "      <th>date</th>\n",
              "      <th>city</th>\n",
              "      <th>country</th>\n",
              "      <th>avg_temp_c</th>\n",
              "    </tr>\n",
              "  </thead>\n",
              "  <tbody>\n",
              "    <tr>\n",
              "      <th>0</th>\n",
              "      <td>00/01/01</td>\n",
              "      <td>Abidjan</td>\n",
              "      <td>Côte D'Ivoire</td>\n",
              "      <td>27.293</td>\n",
              "    </tr>\n",
              "    <tr>\n",
              "      <th>1</th>\n",
              "      <td>00/02/01</td>\n",
              "      <td>Abidjan</td>\n",
              "      <td>Côte D'Ivoire</td>\n",
              "      <td>27.685</td>\n",
              "    </tr>\n",
              "    <tr>\n",
              "      <th>2</th>\n",
              "      <td>00/03/01</td>\n",
              "      <td>Abidjan</td>\n",
              "      <td>Côte D'Ivoire</td>\n",
              "      <td>29.061</td>\n",
              "    </tr>\n",
              "    <tr>\n",
              "      <th>3</th>\n",
              "      <td>00/04/01</td>\n",
              "      <td>Abidjan</td>\n",
              "      <td>Côte D'Ivoire</td>\n",
              "      <td>28.162</td>\n",
              "    </tr>\n",
              "    <tr>\n",
              "      <th>4</th>\n",
              "      <td>00/05/01</td>\n",
              "      <td>Abidjan</td>\n",
              "      <td>Côte D'Ivoire</td>\n",
              "      <td>27.547</td>\n",
              "    </tr>\n",
              "  </tbody>\n",
              "</table>\n",
              "</div>"
            ],
            "text/plain": [
              "       date     city        country  avg_temp_c\n",
              "0  00/01/01  Abidjan  Côte D'Ivoire      27.293\n",
              "1  00/02/01  Abidjan  Côte D'Ivoire      27.685\n",
              "2  00/03/01  Abidjan  Côte D'Ivoire      29.061\n",
              "3  00/04/01  Abidjan  Côte D'Ivoire      28.162\n",
              "4  00/05/01  Abidjan  Côte D'Ivoire      27.547"
            ]
          },
          "metadata": {},
          "execution_count": 223
        }
      ]
    },
    {
      "cell_type": "markdown",
      "metadata": {
        "id": "6hOB6yHRaEWp"
      },
      "source": [
        "llevar las fechas a formato ISO 8601 (yyyy-mm-dd)"
      ]
    },
    {
      "cell_type": "code",
      "metadata": {
        "id": "bbHEdEVqZu_3",
        "colab": {
          "base_uri": "https://localhost:8080/"
        },
        "outputId": "d414f65b-63c2-4ac3-f37b-31d3bc063041"
      },
      "source": [
        "temperatures['date'] = pd.to_datetime(temperatures['date'], format=\"%y/%m/%d\")\n",
        "print(temperatures.head())"
      ],
      "execution_count": 224,
      "outputs": [
        {
          "output_type": "stream",
          "name": "stdout",
          "text": [
            "        date     city        country  avg_temp_c\n",
            "0 2000-01-01  Abidjan  Côte D'Ivoire      27.293\n",
            "1 2000-02-01  Abidjan  Côte D'Ivoire      27.685\n",
            "2 2000-03-01  Abidjan  Côte D'Ivoire      29.061\n",
            "3 2000-04-01  Abidjan  Côte D'Ivoire      28.162\n",
            "4 2000-05-01  Abidjan  Côte D'Ivoire      27.547\n"
          ]
        }
      ]
    },
    {
      "cell_type": "code",
      "metadata": {
        "id": "npNwh56aZGqf",
        "colab": {
          "base_uri": "https://localhost:8080/"
        },
        "outputId": "01e899c8-0e65-4685-a401-b5c6f0c0ecc5"
      },
      "source": [
        "# Utilice condiciones booleanas para crear subconjuntos de temperaturas\n",
        "# para filas en 2010 y 2011\n",
        "temperatures_bool = temperatures[(temperatures[\"date\"] >= \"2010-01-01\") & (temperatures[\"date\"] <= \"2011-12-31\")]\n",
        "print(temperatures_bool)\n",
        "\n",
        "print('----------------------------------------------------------------------')\n",
        "\n",
        "# Fije la fecha como índice y ordénelo\n",
        "temperatures_ind = temperatures.set_index(\"date\").sort_index()\n",
        "\n",
        "# Mismo filtro usando .loc[]\n",
        "print(temperatures_ind.loc[\"2010\":\"2011\"])\n",
        "\n",
        "print('----------------------------------------------------------------------')\n",
        "\n",
        "# Filtrando por fechas parciales\n",
        "print(temperatures_ind.loc[\"2010-08\":\"2011-02\"])"
      ],
      "execution_count": 225,
      "outputs": [
        {
          "output_type": "stream",
          "name": "stdout",
          "text": [
            "            date     city        country  avg_temp_c\n",
            "120   2010-01-01  Abidjan  Côte D'Ivoire      28.270\n",
            "121   2010-02-01  Abidjan  Côte D'Ivoire      29.262\n",
            "122   2010-03-01  Abidjan  Côte D'Ivoire      29.596\n",
            "123   2010-04-01  Abidjan  Côte D'Ivoire      29.068\n",
            "124   2010-05-01  Abidjan  Côte D'Ivoire      28.258\n",
            "...          ...      ...            ...         ...\n",
            "16474 2011-08-01     Xian          China      23.069\n",
            "16475 2011-09-01     Xian          China      16.775\n",
            "16476 2011-10-01     Xian          China      12.587\n",
            "16477 2011-11-01     Xian          China       7.543\n",
            "16478 2011-12-01     Xian          China      -0.490\n",
            "\n",
            "[2400 rows x 4 columns]\n",
            "----------------------------------------------------------------------\n",
            "                  city    country  avg_temp_c\n",
            "date                                         \n",
            "2010-01-01  Faisalabad   Pakistan      11.810\n",
            "2010-01-01   Melbourne  Australia      20.016\n",
            "2010-01-01   Chongqing      China       7.921\n",
            "2010-01-01   São Paulo     Brazil      23.738\n",
            "2010-01-01   Guangzhou      China      14.136\n",
            "...                ...        ...         ...\n",
            "2011-12-01      Nagoya      Japan       6.476\n",
            "2011-12-01   Hyderabad      India      23.613\n",
            "2011-12-01        Cali   Colombia      21.559\n",
            "2011-12-01        Lima       Peru      18.293\n",
            "2011-12-01     Bangkok   Thailand      25.021\n",
            "\n",
            "[2400 rows x 3 columns]\n",
            "----------------------------------------------------------------------\n",
            "                city        country  avg_temp_c\n",
            "date                                           \n",
            "2010-08-01  Calcutta          India      30.226\n",
            "2010-08-01      Pune          India      24.941\n",
            "2010-08-01     Izmir         Turkey      28.352\n",
            "2010-08-01   Tianjin          China      25.543\n",
            "2010-08-01    Manila    Philippines      27.101\n",
            "...              ...            ...         ...\n",
            "2011-02-01     Kabul    Afghanistan       3.914\n",
            "2011-02-01   Chicago  United States       0.276\n",
            "2011-02-01    Aleppo          Syria       8.246\n",
            "2011-02-01     Delhi          India      18.136\n",
            "2011-02-01   Rangoon          Burma      26.631\n",
            "\n",
            "[700 rows x 3 columns]\n"
          ]
        }
      ]
    },
    {
      "cell_type": "markdown",
      "metadata": {
        "id": "ifyEHqCdb1-i"
      },
      "source": [
        "### Filtrando por número de fila/columna\n",
        "\n",
        "Esto se hace utilizando `.iloc[]`, y al igual que `.loc[]`, puede recibir dos argumentos para permitirle hacer un subconjuntos por filas y columnas."
      ]
    },
    {
      "cell_type": "code",
      "metadata": {
        "id": "OprsiVAOb5LP",
        "colab": {
          "base_uri": "https://localhost:8080/"
        },
        "outputId": "52fbe224-fce3-4a39-cee6-396c414021a2"
      },
      "source": [
        "# Fila 23, columna 2 (índice 22,1)\n",
        "print(temperatures.iloc[22, 1])\n",
        "\n",
        "print('----------------------------------------------------------------------')\n",
        "\n",
        "# Tome las primeras 5 filas\n",
        "print(temperatures.iloc[:5, :])\n",
        "\n",
        "print('----------------------------------------------------------------------')\n",
        "\n",
        "# Tome las columnas de la 3 a la 4\n",
        "print(temperatures.iloc[:, 2:4])\n",
        "\n",
        "print('----------------------------------------------------------------------')\n",
        "\n",
        "# Rebanar en las dos direcciones de forma simultanea\n",
        "print(temperatures.iloc[:5, 2:4])"
      ],
      "execution_count": 226,
      "outputs": [
        {
          "output_type": "stream",
          "name": "stdout",
          "text": [
            "Abidjan\n",
            "----------------------------------------------------------------------\n",
            "        date     city        country  avg_temp_c\n",
            "0 2000-01-01  Abidjan  Côte D'Ivoire      27.293\n",
            "1 2000-02-01  Abidjan  Côte D'Ivoire      27.685\n",
            "2 2000-03-01  Abidjan  Côte D'Ivoire      29.061\n",
            "3 2000-04-01  Abidjan  Côte D'Ivoire      28.162\n",
            "4 2000-05-01  Abidjan  Côte D'Ivoire      27.547\n",
            "----------------------------------------------------------------------\n",
            "             country  avg_temp_c\n",
            "0      Côte D'Ivoire      27.293\n",
            "1      Côte D'Ivoire      27.685\n",
            "2      Côte D'Ivoire      29.061\n",
            "3      Côte D'Ivoire      28.162\n",
            "4      Côte D'Ivoire      27.547\n",
            "...              ...         ...\n",
            "16495          China      18.979\n",
            "16496          China      23.522\n",
            "16497          China      25.251\n",
            "16498          China      24.528\n",
            "16499          China         NaN\n",
            "\n",
            "[16500 rows x 2 columns]\n",
            "----------------------------------------------------------------------\n",
            "         country  avg_temp_c\n",
            "0  Côte D'Ivoire      27.293\n",
            "1  Côte D'Ivoire      27.685\n",
            "2  Côte D'Ivoire      29.061\n",
            "3  Côte D'Ivoire      28.162\n",
            "4  Côte D'Ivoire      27.547\n"
          ]
        }
      ]
    },
    {
      "cell_type": "markdown",
      "metadata": {
        "id": "XlkLVsBMcVb3"
      },
      "source": [
        "## Visualización de DataFrames\n",
        "---\n",
        "\n",
        "El dataset `avocados` registra las ventas en el transcurso de algunos años de dos tipos de aguacate."
      ]
    },
    {
      "cell_type": "code",
      "metadata": {
        "id": "wo83e69ucW_8"
      },
      "source": [
        "avocados = pd.read_pickle('/content/sample_data/avoplotto.pkl')"
      ],
      "execution_count": 234,
      "outputs": []
    },
    {
      "cell_type": "code",
      "metadata": {
        "id": "FT2Fu5nsdiS0",
        "colab": {
          "base_uri": "https://localhost:8080/"
        },
        "outputId": "84367e0c-06e3-4ecb-baf2-626532216839"
      },
      "source": [
        "print(avocados.head())"
      ],
      "execution_count": 235,
      "outputs": [
        {
          "output_type": "stream",
          "name": "stdout",
          "text": [
            "         date          type  year  avg_price   size     nb_sold\n",
            "0  2015-12-27  conventional  2015       0.95  small  9626901.09\n",
            "1  2015-12-20  conventional  2015       0.98  small  8710021.76\n",
            "2  2015-12-13  conventional  2015       0.93  small  9855053.66\n",
            "3  2015-12-06  conventional  2015       0.89  small  9405464.36\n",
            "4  2015-11-29  conventional  2015       0.99  small  8094803.56\n"
          ]
        }
      ]
    },
    {
      "cell_type": "code",
      "metadata": {
        "id": "w_ff5sKReMd1",
        "colab": {
          "base_uri": "https://localhost:8080/"
        },
        "outputId": "95e79e98-2150-4b16-e8c9-718a64a3ff93"
      },
      "source": [
        "print(avocados.tail())"
      ],
      "execution_count": 236,
      "outputs": [
        {
          "output_type": "stream",
          "name": "stdout",
          "text": [
            "            date     type  year  avg_price         size  nb_sold\n",
            "1009  2018-02-04  organic  2018       1.53  extra_large  1703.52\n",
            "1010  2018-01-28  organic  2018       1.61  extra_large  1270.61\n",
            "1011  2018-01-21  organic  2018       1.63  extra_large  1490.02\n",
            "1012  2018-01-14  organic  2018       1.59  extra_large  1580.01\n",
            "1013  2018-01-07  organic  2018       1.51  extra_large  1289.07\n"
          ]
        }
      ]
    },
    {
      "cell_type": "markdown",
      "metadata": {
        "id": "_kycwN45kO2J"
      },
      "source": [
        "### Visualizando los datos"
      ]
    },
    {
      "cell_type": "markdown",
      "metadata": {
        "id": "43AJO-Srgoxw"
      },
      "source": [
        "¿Qué tamaño de aguacate es el más popular?\n",
        "\n",
        "Los gráficos de barras son excelentes para revelar las relaciones entre las variables categóricas y numéricas, pero es necesario manipular primero los datos para obtener los números necesarios para el trazado de los gráficos."
      ]
    },
    {
      "cell_type": "code",
      "metadata": {
        "id": "ATMxX2WreOfi",
        "colab": {
          "base_uri": "https://localhost:8080/",
          "height": 337
        },
        "outputId": "db03eda6-78bd-44e5-db95-14910ace3ee0"
      },
      "source": [
        "# número total de aguacates vendidos de cada tamaño\n",
        "nb_sold_by_size = avocados.groupby('size')['nb_sold'].sum()\n",
        "\n",
        "# crear un gráfico de barras del número de aguacates vendidos por tamaño\n",
        "nb_sold_by_size.plot(kind='bar')\n",
        "\n",
        "# mostrar el gráfico\n",
        "plt.show()"
      ],
      "execution_count": 242,
      "outputs": [
        {
          "output_type": "display_data",
          "data": {
            "image/png": "[encoded data removed]",
            "text/plain": [
              "<Figure size 432x288 with 1 Axes>"
            ]
          },
          "metadata": {
            "needs_background": "light"
          }
        }
      ]
    },
    {
      "cell_type": "markdown",
      "metadata": {
        "id": "nEHDVjcNh-sA"
      },
      "source": [
        "Cambios en las ventas a lo largo del tiempo"
      ]
    },
    {
      "cell_type": "code",
      "metadata": {
        "id": "hAW3fH2AiBf6",
        "colab": {
          "base_uri": "https://localhost:8080/",
          "height": 290
        },
        "outputId": "cfc9fcc9-c941-4431-9911-72d6e1756d2e"
      },
      "source": [
        "# Obtener el número total de aguacates vendidos en cada fecha\n",
        "nb_sold_by_date = avocados.groupby('date')['nb_sold'].sum()\n",
        "\n",
        "# Crear un gráfico de línea del número de aguacates vendidos por fecha\n",
        "nb_sold_by_date.plot(kind='line',)\n",
        "\n",
        "# Mostrar el gráfico\n",
        "plt.show()"
      ],
      "execution_count": 243,
      "outputs": [
        {
          "output_type": "display_data",
          "data": {
            "image/png": "[encoded data removed]",
            "text/plain": [
              "<Figure size 432x288 with 1 Axes>"
            ]
          },
          "metadata": {
            "needs_background": "light"
          }
        }
      ]
    },
    {
      "cell_type": "markdown",
      "metadata": {
        "id": "-L5VT0goi7NB"
      },
      "source": [
        "Oferta y demanda de aguacates"
      ]
    },
    {
      "cell_type": "code",
      "metadata": {
        "id": "xeLYD0E2icji",
        "colab": {
          "base_uri": "https://localhost:8080/",
          "height": 296
        },
        "outputId": "16bb025d-0a61-4d57-8f02-339ac1fe63ad"
      },
      "source": [
        "# Diagrama de dispersión de nb_sold vs avg_price con título\n",
        "avocados.plot(x='nb_sold', y='avg_price', kind='scatter',\n",
        "              title=\"Número de aguacates vendidos vs. precio medio\")\n",
        "plt.show()"
      ],
      "execution_count": 244,
      "outputs": [
        {
          "output_type": "display_data",
          "data": {
            "image/png": "[encoded data removed]",
            "text/plain": [
              "<Figure size 432x288 with 1 Axes>"
            ]
          },
          "metadata": {
            "needs_background": "light"
          }
        }
      ]
    },
    {
      "cell_type": "markdown",
      "metadata": {
        "id": "A93W7FaojR3j"
      },
      "source": [
        "Precio de los aguacates convencionales frente a los organicos"
      ]
    },
    {
      "cell_type": "code",
      "metadata": {
        "id": "KADR3xksjVOy",
        "colab": {
          "base_uri": "https://localhost:8080/",
          "height": 268
        },
        "outputId": "a0005363-65dd-4db8-8151-caa307464789"
      },
      "source": [
        "# Histograma del precio promedio del aguacate convencional \n",
        "avocados[avocados[\"type\"] == \"conventional\"][\"avg_price\"].hist(bins=20, alpha=0.5)\n",
        "\n",
        "# Histograma del precio promedio del aguacate organico\n",
        "avocados[avocados[\"type\"] == \"organic\"][\"avg_price\"].hist(bins=20, alpha=0.5)\n",
        "\n",
        "# Añadir una leyenda\n",
        "plt.legend([\"convencional\", \"organico\"])\n",
        "\n",
        "plt.show()"
      ],
      "execution_count": 245,
      "outputs": [
        {
          "output_type": "display_data",
          "data": {
            "image/png": "[encoded data removed]",
            "text/plain": [
              "<Figure size 432x288 with 1 Axes>"
            ]
          },
          "metadata": {
            "needs_background": "light"
          }
        }
      ]
    }
  ]
}